{
  "cells": [
    {
      "cell_type": "markdown",
      "metadata": {
        "id": "DbgpAPY7dzq2"
      },
      "source": [
        " # Perkenalan\n",
        " 1. Nama : Cindra Chatami\n",
        " 2. Batch : 9 FTDS\n",
        "\n",
        "\n",
        " \n",
        "The company's success, progress, and performance is actualy related with their employee. The happier the employee, then they might give their best for the company. To simplify, if the company took care of their employee, then the employee will take care of their company. Those poor mental health could affect company in negative ways, that's what [cdc](https://www.cdc.gov/workplacehealthpromotion/tools-resources/workplace-health/mental-health/index.html#:~:text=Poor%20mental%20health%20and%20stress,Job%20performance%20and%20productivity.) says. Therefore, **I'm paying attention to mental-health-issue**. Since it's related to mental-health, one of the parameter we can use to understand the mental condition of our employee is to understand `do they ever do treatment? because if they do, then they might have issue with their mental health`. Those, need to be taken care of. \n",
        "\n",
        "My objective here is to inform the employer about the condition of their employee and how to provide them with help in hoping improving their work. This project too will analyze the relationship between their statemetn of treatment and the parameters exists (the feature in this datasets)\n",
        "\n",
        "\n",
        "This datasets were collected from Kaggle [Mental Health](https://www.kaggle.com/datasets/osmi/mental-health-in-tech-survey). This dataset is from a 2014 survey that measures attitudes towards mental health and frequency of mental health disorders in the tech workplace. All columns were based on questionare and further will be analyze. My main goal here is to predict customer's needs of Treatment based on their mental health condition. This notebook is about `Classification` cases. Therefore I'm going to use Algorithm for Classification Purposes."
      ]
    },
    {
      "cell_type": "markdown",
      "metadata": {
        "id": "DlLnXeqZyLnj"
      },
      "source": [
        "# Library Import"
      ]
    },
    {
      "cell_type": "code",
      "execution_count": 1,
      "metadata": {
        "id": "h9EvOmh1djPe"
      },
      "outputs": [],
      "source": [
        "# EDA\n",
        "import pandas as pd\n",
        "import numpy as np\n",
        "import matplotlib.pyplot as plt\n",
        "import seaborn as sns\n",
        "\n",
        "\n",
        "# preprocessing\n",
        "from sklearn.model_selection import train_test_split, GridSearchCV\n",
        "from sklearn.compose import ColumnTransformer\n",
        "from sklearn.pipeline import Pipeline\n",
        "from sklearn.impute import SimpleImputer\n",
        "from sklearn.preprocessing import OrdinalEncoder\n",
        "\n",
        "# model\n",
        "from sklearn.linear_model import LogisticRegression\n",
        "from sklearn.svm import SVC\n",
        "from sklearn.ensemble import RandomForestClassifier, GradientBoostingClassifier\n",
        "from sklearn.neighbors import KNeighborsClassifier\n",
        "from sklearn.model_selection import cross_val_score\n",
        "\n",
        "#evaluation\n",
        "from sklearn.metrics import *"
      ]
    },
    {
      "cell_type": "markdown",
      "metadata": {
        "id": "9-SoTKs9yOiX"
      },
      "source": [
        "# Loading Data"
      ]
    },
    {
      "cell_type": "code",
      "execution_count": 2,
      "metadata": {
        "id": "aCvIfTtttWJX"
      },
      "outputs": [],
      "source": [
        "df = pd.read_csv('survey.csv')"
      ]
    },
    {
      "cell_type": "code",
      "execution_count": 3,
      "metadata": {
        "colab": {
          "base_uri": "https://localhost:8080/",
          "height": 835
        },
        "id": "U8IHTTe-tsyK",
        "outputId": "7480a586-108a-4019-be8e-49f145bb50b4"
      },
      "outputs": [
        {
          "data": {
            "text/html": [
              "<div>\n",
              "<style scoped>\n",
              "    .dataframe tbody tr th:only-of-type {\n",
              "        vertical-align: middle;\n",
              "    }\n",
              "\n",
              "    .dataframe tbody tr th {\n",
              "        vertical-align: top;\n",
              "    }\n",
              "\n",
              "    .dataframe thead th {\n",
              "        text-align: right;\n",
              "    }\n",
              "</style>\n",
              "<table border=\"1\" class=\"dataframe\">\n",
              "  <thead>\n",
              "    <tr style=\"text-align: right;\">\n",
              "      <th></th>\n",
              "      <th>timestamp</th>\n",
              "      <th>age</th>\n",
              "      <th>gender</th>\n",
              "      <th>country</th>\n",
              "      <th>state</th>\n",
              "      <th>self_employed</th>\n",
              "      <th>family_history</th>\n",
              "      <th>treatment</th>\n",
              "      <th>work_interfere</th>\n",
              "      <th>no_employees</th>\n",
              "      <th>remote_work</th>\n",
              "      <th>tech_company</th>\n",
              "      <th>benefits</th>\n",
              "      <th>care_options</th>\n",
              "      <th>wellness_program</th>\n",
              "      <th>seek_help</th>\n",
              "      <th>anonymity</th>\n",
              "      <th>leave</th>\n",
              "      <th>mental_health_consequence</th>\n",
              "      <th>phys_health_consequence</th>\n",
              "      <th>coworkers</th>\n",
              "      <th>supervisor</th>\n",
              "      <th>mental_health_interview</th>\n",
              "      <th>phys_health_interview</th>\n",
              "      <th>mental_vs_physical</th>\n",
              "      <th>obs_consequence</th>\n",
              "      <th>comments</th>\n",
              "    </tr>\n",
              "  </thead>\n",
              "  <tbody>\n",
              "    <tr>\n",
              "      <th>0</th>\n",
              "      <td>2014-08-27 11:29:31</td>\n",
              "      <td>37</td>\n",
              "      <td>Female</td>\n",
              "      <td>United States</td>\n",
              "      <td>IL</td>\n",
              "      <td>NaN</td>\n",
              "      <td>No</td>\n",
              "      <td>Yes</td>\n",
              "      <td>Often</td>\n",
              "      <td>6-25</td>\n",
              "      <td>No</td>\n",
              "      <td>Yes</td>\n",
              "      <td>Yes</td>\n",
              "      <td>Not sure</td>\n",
              "      <td>No</td>\n",
              "      <td>Yes</td>\n",
              "      <td>Yes</td>\n",
              "      <td>Somewhat easy</td>\n",
              "      <td>No</td>\n",
              "      <td>No</td>\n",
              "      <td>Some of them</td>\n",
              "      <td>Yes</td>\n",
              "      <td>No</td>\n",
              "      <td>Maybe</td>\n",
              "      <td>Yes</td>\n",
              "      <td>No</td>\n",
              "      <td>NaN</td>\n",
              "    </tr>\n",
              "    <tr>\n",
              "      <th>1</th>\n",
              "      <td>2014-08-27 11:29:37</td>\n",
              "      <td>44</td>\n",
              "      <td>M</td>\n",
              "      <td>United States</td>\n",
              "      <td>IN</td>\n",
              "      <td>NaN</td>\n",
              "      <td>No</td>\n",
              "      <td>No</td>\n",
              "      <td>Rarely</td>\n",
              "      <td>More than 1000</td>\n",
              "      <td>No</td>\n",
              "      <td>No</td>\n",
              "      <td>Don't know</td>\n",
              "      <td>No</td>\n",
              "      <td>Don't know</td>\n",
              "      <td>Don't know</td>\n",
              "      <td>Don't know</td>\n",
              "      <td>Don't know</td>\n",
              "      <td>Maybe</td>\n",
              "      <td>No</td>\n",
              "      <td>No</td>\n",
              "      <td>No</td>\n",
              "      <td>No</td>\n",
              "      <td>No</td>\n",
              "      <td>Don't know</td>\n",
              "      <td>No</td>\n",
              "      <td>NaN</td>\n",
              "    </tr>\n",
              "    <tr>\n",
              "      <th>2</th>\n",
              "      <td>2014-08-27 11:29:44</td>\n",
              "      <td>32</td>\n",
              "      <td>Male</td>\n",
              "      <td>Canada</td>\n",
              "      <td>NaN</td>\n",
              "      <td>NaN</td>\n",
              "      <td>No</td>\n",
              "      <td>No</td>\n",
              "      <td>Rarely</td>\n",
              "      <td>6-25</td>\n",
              "      <td>No</td>\n",
              "      <td>Yes</td>\n",
              "      <td>No</td>\n",
              "      <td>No</td>\n",
              "      <td>No</td>\n",
              "      <td>No</td>\n",
              "      <td>Don't know</td>\n",
              "      <td>Somewhat difficult</td>\n",
              "      <td>No</td>\n",
              "      <td>No</td>\n",
              "      <td>Yes</td>\n",
              "      <td>Yes</td>\n",
              "      <td>Yes</td>\n",
              "      <td>Yes</td>\n",
              "      <td>No</td>\n",
              "      <td>No</td>\n",
              "      <td>NaN</td>\n",
              "    </tr>\n",
              "    <tr>\n",
              "      <th>3</th>\n",
              "      <td>2014-08-27 11:29:46</td>\n",
              "      <td>31</td>\n",
              "      <td>Male</td>\n",
              "      <td>United Kingdom</td>\n",
              "      <td>NaN</td>\n",
              "      <td>NaN</td>\n",
              "      <td>Yes</td>\n",
              "      <td>Yes</td>\n",
              "      <td>Often</td>\n",
              "      <td>26-100</td>\n",
              "      <td>No</td>\n",
              "      <td>Yes</td>\n",
              "      <td>No</td>\n",
              "      <td>Yes</td>\n",
              "      <td>No</td>\n",
              "      <td>No</td>\n",
              "      <td>No</td>\n",
              "      <td>Somewhat difficult</td>\n",
              "      <td>Yes</td>\n",
              "      <td>Yes</td>\n",
              "      <td>Some of them</td>\n",
              "      <td>No</td>\n",
              "      <td>Maybe</td>\n",
              "      <td>Maybe</td>\n",
              "      <td>No</td>\n",
              "      <td>Yes</td>\n",
              "      <td>NaN</td>\n",
              "    </tr>\n",
              "    <tr>\n",
              "      <th>4</th>\n",
              "      <td>2014-08-27 11:30:22</td>\n",
              "      <td>31</td>\n",
              "      <td>Male</td>\n",
              "      <td>United States</td>\n",
              "      <td>TX</td>\n",
              "      <td>NaN</td>\n",
              "      <td>No</td>\n",
              "      <td>No</td>\n",
              "      <td>Never</td>\n",
              "      <td>100-500</td>\n",
              "      <td>Yes</td>\n",
              "      <td>Yes</td>\n",
              "      <td>Yes</td>\n",
              "      <td>No</td>\n",
              "      <td>Don't know</td>\n",
              "      <td>Don't know</td>\n",
              "      <td>Don't know</td>\n",
              "      <td>Don't know</td>\n",
              "      <td>No</td>\n",
              "      <td>No</td>\n",
              "      <td>Some of them</td>\n",
              "      <td>Yes</td>\n",
              "      <td>Yes</td>\n",
              "      <td>Yes</td>\n",
              "      <td>Don't know</td>\n",
              "      <td>No</td>\n",
              "      <td>NaN</td>\n",
              "    </tr>\n",
              "    <tr>\n",
              "      <th>...</th>\n",
              "      <td>...</td>\n",
              "      <td>...</td>\n",
              "      <td>...</td>\n",
              "      <td>...</td>\n",
              "      <td>...</td>\n",
              "      <td>...</td>\n",
              "      <td>...</td>\n",
              "      <td>...</td>\n",
              "      <td>...</td>\n",
              "      <td>...</td>\n",
              "      <td>...</td>\n",
              "      <td>...</td>\n",
              "      <td>...</td>\n",
              "      <td>...</td>\n",
              "      <td>...</td>\n",
              "      <td>...</td>\n",
              "      <td>...</td>\n",
              "      <td>...</td>\n",
              "      <td>...</td>\n",
              "      <td>...</td>\n",
              "      <td>...</td>\n",
              "      <td>...</td>\n",
              "      <td>...</td>\n",
              "      <td>...</td>\n",
              "      <td>...</td>\n",
              "      <td>...</td>\n",
              "      <td>...</td>\n",
              "    </tr>\n",
              "    <tr>\n",
              "      <th>1254</th>\n",
              "      <td>2015-09-12 11:17:21</td>\n",
              "      <td>26</td>\n",
              "      <td>male</td>\n",
              "      <td>United Kingdom</td>\n",
              "      <td>NaN</td>\n",
              "      <td>No</td>\n",
              "      <td>No</td>\n",
              "      <td>Yes</td>\n",
              "      <td>NaN</td>\n",
              "      <td>26-100</td>\n",
              "      <td>No</td>\n",
              "      <td>Yes</td>\n",
              "      <td>No</td>\n",
              "      <td>No</td>\n",
              "      <td>No</td>\n",
              "      <td>No</td>\n",
              "      <td>Don't know</td>\n",
              "      <td>Somewhat easy</td>\n",
              "      <td>No</td>\n",
              "      <td>No</td>\n",
              "      <td>Some of them</td>\n",
              "      <td>Some of them</td>\n",
              "      <td>No</td>\n",
              "      <td>No</td>\n",
              "      <td>Don't know</td>\n",
              "      <td>No</td>\n",
              "      <td>NaN</td>\n",
              "    </tr>\n",
              "    <tr>\n",
              "      <th>1255</th>\n",
              "      <td>2015-09-26 01:07:35</td>\n",
              "      <td>32</td>\n",
              "      <td>Male</td>\n",
              "      <td>United States</td>\n",
              "      <td>IL</td>\n",
              "      <td>No</td>\n",
              "      <td>Yes</td>\n",
              "      <td>Yes</td>\n",
              "      <td>Often</td>\n",
              "      <td>26-100</td>\n",
              "      <td>Yes</td>\n",
              "      <td>Yes</td>\n",
              "      <td>Yes</td>\n",
              "      <td>Yes</td>\n",
              "      <td>No</td>\n",
              "      <td>No</td>\n",
              "      <td>Yes</td>\n",
              "      <td>Somewhat difficult</td>\n",
              "      <td>No</td>\n",
              "      <td>No</td>\n",
              "      <td>Some of them</td>\n",
              "      <td>Yes</td>\n",
              "      <td>No</td>\n",
              "      <td>No</td>\n",
              "      <td>Yes</td>\n",
              "      <td>No</td>\n",
              "      <td>NaN</td>\n",
              "    </tr>\n",
              "    <tr>\n",
              "      <th>1256</th>\n",
              "      <td>2015-11-07 12:36:58</td>\n",
              "      <td>34</td>\n",
              "      <td>male</td>\n",
              "      <td>United States</td>\n",
              "      <td>CA</td>\n",
              "      <td>No</td>\n",
              "      <td>Yes</td>\n",
              "      <td>Yes</td>\n",
              "      <td>Sometimes</td>\n",
              "      <td>More than 1000</td>\n",
              "      <td>No</td>\n",
              "      <td>Yes</td>\n",
              "      <td>Yes</td>\n",
              "      <td>Yes</td>\n",
              "      <td>No</td>\n",
              "      <td>No</td>\n",
              "      <td>Don't know</td>\n",
              "      <td>Somewhat difficult</td>\n",
              "      <td>Yes</td>\n",
              "      <td>Yes</td>\n",
              "      <td>No</td>\n",
              "      <td>No</td>\n",
              "      <td>No</td>\n",
              "      <td>No</td>\n",
              "      <td>No</td>\n",
              "      <td>No</td>\n",
              "      <td>NaN</td>\n",
              "    </tr>\n",
              "    <tr>\n",
              "      <th>1257</th>\n",
              "      <td>2015-11-30 21:25:06</td>\n",
              "      <td>46</td>\n",
              "      <td>f</td>\n",
              "      <td>United States</td>\n",
              "      <td>NC</td>\n",
              "      <td>No</td>\n",
              "      <td>No</td>\n",
              "      <td>No</td>\n",
              "      <td>NaN</td>\n",
              "      <td>100-500</td>\n",
              "      <td>Yes</td>\n",
              "      <td>Yes</td>\n",
              "      <td>No</td>\n",
              "      <td>Yes</td>\n",
              "      <td>No</td>\n",
              "      <td>No</td>\n",
              "      <td>Don't know</td>\n",
              "      <td>Don't know</td>\n",
              "      <td>Yes</td>\n",
              "      <td>No</td>\n",
              "      <td>No</td>\n",
              "      <td>No</td>\n",
              "      <td>No</td>\n",
              "      <td>No</td>\n",
              "      <td>No</td>\n",
              "      <td>No</td>\n",
              "      <td>NaN</td>\n",
              "    </tr>\n",
              "    <tr>\n",
              "      <th>1258</th>\n",
              "      <td>2016-02-01 23:04:31</td>\n",
              "      <td>25</td>\n",
              "      <td>Male</td>\n",
              "      <td>United States</td>\n",
              "      <td>IL</td>\n",
              "      <td>No</td>\n",
              "      <td>Yes</td>\n",
              "      <td>Yes</td>\n",
              "      <td>Sometimes</td>\n",
              "      <td>26-100</td>\n",
              "      <td>No</td>\n",
              "      <td>No</td>\n",
              "      <td>Yes</td>\n",
              "      <td>Yes</td>\n",
              "      <td>No</td>\n",
              "      <td>No</td>\n",
              "      <td>Yes</td>\n",
              "      <td>Don't know</td>\n",
              "      <td>Maybe</td>\n",
              "      <td>No</td>\n",
              "      <td>Some of them</td>\n",
              "      <td>No</td>\n",
              "      <td>No</td>\n",
              "      <td>No</td>\n",
              "      <td>Don't know</td>\n",
              "      <td>No</td>\n",
              "      <td>NaN</td>\n",
              "    </tr>\n",
              "  </tbody>\n",
              "</table>\n",
              "<p>1259 rows × 27 columns</p>\n",
              "</div>"
            ],
            "text/plain": [
              "                timestamp  age  gender         country state self_employed  \\\n",
              "0     2014-08-27 11:29:31   37  Female   United States    IL           NaN   \n",
              "1     2014-08-27 11:29:37   44       M   United States    IN           NaN   \n",
              "2     2014-08-27 11:29:44   32    Male          Canada   NaN           NaN   \n",
              "3     2014-08-27 11:29:46   31    Male  United Kingdom   NaN           NaN   \n",
              "4     2014-08-27 11:30:22   31    Male   United States    TX           NaN   \n",
              "...                   ...  ...     ...             ...   ...           ...   \n",
              "1254  2015-09-12 11:17:21   26    male  United Kingdom   NaN            No   \n",
              "1255  2015-09-26 01:07:35   32    Male   United States    IL            No   \n",
              "1256  2015-11-07 12:36:58   34    male   United States    CA            No   \n",
              "1257  2015-11-30 21:25:06   46       f   United States    NC            No   \n",
              "1258  2016-02-01 23:04:31   25    Male   United States    IL            No   \n",
              "\n",
              "     family_history treatment work_interfere    no_employees remote_work  \\\n",
              "0                No       Yes          Often            6-25          No   \n",
              "1                No        No         Rarely  More than 1000          No   \n",
              "2                No        No         Rarely            6-25          No   \n",
              "3               Yes       Yes          Often          26-100          No   \n",
              "4                No        No          Never         100-500         Yes   \n",
              "...             ...       ...            ...             ...         ...   \n",
              "1254             No       Yes            NaN          26-100          No   \n",
              "1255            Yes       Yes          Often          26-100         Yes   \n",
              "1256            Yes       Yes      Sometimes  More than 1000          No   \n",
              "1257             No        No            NaN         100-500         Yes   \n",
              "1258            Yes       Yes      Sometimes          26-100          No   \n",
              "\n",
              "     tech_company    benefits care_options wellness_program   seek_help  \\\n",
              "0             Yes         Yes     Not sure               No         Yes   \n",
              "1              No  Don't know           No       Don't know  Don't know   \n",
              "2             Yes          No           No               No          No   \n",
              "3             Yes          No          Yes               No          No   \n",
              "4             Yes         Yes           No       Don't know  Don't know   \n",
              "...           ...         ...          ...              ...         ...   \n",
              "1254          Yes          No           No               No          No   \n",
              "1255          Yes         Yes          Yes               No          No   \n",
              "1256          Yes         Yes          Yes               No          No   \n",
              "1257          Yes          No          Yes               No          No   \n",
              "1258           No         Yes          Yes               No          No   \n",
              "\n",
              "       anonymity               leave mental_health_consequence  \\\n",
              "0            Yes       Somewhat easy                        No   \n",
              "1     Don't know          Don't know                     Maybe   \n",
              "2     Don't know  Somewhat difficult                        No   \n",
              "3             No  Somewhat difficult                       Yes   \n",
              "4     Don't know          Don't know                        No   \n",
              "...          ...                 ...                       ...   \n",
              "1254  Don't know       Somewhat easy                        No   \n",
              "1255         Yes  Somewhat difficult                        No   \n",
              "1256  Don't know  Somewhat difficult                       Yes   \n",
              "1257  Don't know          Don't know                       Yes   \n",
              "1258         Yes          Don't know                     Maybe   \n",
              "\n",
              "     phys_health_consequence     coworkers    supervisor  \\\n",
              "0                         No  Some of them           Yes   \n",
              "1                         No            No            No   \n",
              "2                         No           Yes           Yes   \n",
              "3                        Yes  Some of them            No   \n",
              "4                         No  Some of them           Yes   \n",
              "...                      ...           ...           ...   \n",
              "1254                      No  Some of them  Some of them   \n",
              "1255                      No  Some of them           Yes   \n",
              "1256                     Yes            No            No   \n",
              "1257                      No            No            No   \n",
              "1258                      No  Some of them            No   \n",
              "\n",
              "     mental_health_interview phys_health_interview mental_vs_physical  \\\n",
              "0                         No                 Maybe                Yes   \n",
              "1                         No                    No         Don't know   \n",
              "2                        Yes                   Yes                 No   \n",
              "3                      Maybe                 Maybe                 No   \n",
              "4                        Yes                   Yes         Don't know   \n",
              "...                      ...                   ...                ...   \n",
              "1254                      No                    No         Don't know   \n",
              "1255                      No                    No                Yes   \n",
              "1256                      No                    No                 No   \n",
              "1257                      No                    No                 No   \n",
              "1258                      No                    No         Don't know   \n",
              "\n",
              "     obs_consequence comments  \n",
              "0                 No      NaN  \n",
              "1                 No      NaN  \n",
              "2                 No      NaN  \n",
              "3                Yes      NaN  \n",
              "4                 No      NaN  \n",
              "...              ...      ...  \n",
              "1254              No      NaN  \n",
              "1255              No      NaN  \n",
              "1256              No      NaN  \n",
              "1257              No      NaN  \n",
              "1258              No      NaN  \n",
              "\n",
              "[1259 rows x 27 columns]"
            ]
          },
          "execution_count": 3,
          "metadata": {},
          "output_type": "execute_result"
        }
      ],
      "source": [
        "pd.set_option(\"display.max_columns\", None)\n",
        "df.columns = df.columns.str.lower()\n",
        "df"
      ]
    },
    {
      "cell_type": "markdown",
      "metadata": {
        "id": "fVom3XNZt2SQ"
      },
      "source": [
        "About The Data \n",
        "\n",
        "**Timestamp**\n",
        "\n",
        "**Age**\n",
        "\n",
        "**Gender**\n",
        "\n",
        "**Country**\n",
        "\n",
        "**state**: If you live in the United States, which state or territory do you live in?\n",
        "\n",
        "**self_employed**: Are you self-employed?\n",
        "\n",
        "**family_history**: Do you have a family history of mental illness?\n",
        "\n",
        "**treatment**: Have you sought treatment for a mental health condition?\n",
        "\n",
        "**work_interfere**: If you have a mental health condition, do you feel that it interferes with your work?\n",
        "\n",
        "**no_employees**: How many employees does your company or organization have?\n",
        "\n",
        "**remote_work**: Do you work remotely (outside of an office) at least 50% of the time?\n",
        "\n",
        "**tech_company**: Is your employer primarily a tech company/organization?\n",
        "\n",
        "**benefits**: Does your employer provide mental health benefits?\n",
        "\n",
        "**care_options**: Do you know the options for mental health care your employer provides?\n",
        "\n",
        "**wellness_program**: Has your employer ever discussed mental health as part of an employee wellness program?\n",
        "\n",
        "**seek_help**: Does your employer provide resources to learn more about mental health issues and how to seek help?\n",
        "\n",
        "**anonymity**: Is your anonymity protected if you choose to take advantage of mental health or substance abuse treatment resources?\n",
        "\n",
        "**leave**: How easy is it for you to take medical leave for a mental health condition?\n",
        "\n",
        "**mentalhealthconsequence**: Do you think that discussing a mental health issue with your employer would have negative consequences?\n",
        "\n",
        "**physhealthconsequence**: Do you think that discussing a physical health issue with your employer would have negative consequences?\n",
        "\n",
        "**coworkers**: Would you be willing to discuss a mental health issue with your coworkers?\n",
        "\n",
        "**supervisor**: Would you be willing to discuss a mental health issue with your direct supervisor(s)?\n",
        "\n",
        "**mentalhealthinterview**: Would you bring up a mental health issue with a potential employer in an interview?\n",
        "\n",
        "**physhealthinterview**: Would you bring up a physical health issue with a potential employer in an interview?\n",
        "\n",
        "*mentalvsphysical**: Do you feel that your employer takes mental health as seriously as physical health?\n",
        "\n",
        "**obs_consequence**: Have you heard of or observed negative consequences for coworkers with mental health conditions in your workplace?\n",
        "\n",
        "**comments**: Any additional notes or comments"
      ]
    },
    {
      "cell_type": "code",
      "execution_count": 4,
      "metadata": {
        "colab": {
          "base_uri": "https://localhost:8080/"
        },
        "id": "UimxEwt6twJx",
        "outputId": "10e62dba-4ecd-4073-e5ec-469ff9a135f0"
      },
      "outputs": [
        {
          "name": "stdout",
          "output_type": "stream",
          "text": [
            "<class 'pandas.core.frame.DataFrame'>\n",
            "RangeIndex: 1259 entries, 0 to 1258\n",
            "Data columns (total 27 columns):\n",
            " #   Column                     Non-Null Count  Dtype \n",
            "---  ------                     --------------  ----- \n",
            " 0   timestamp                  1259 non-null   object\n",
            " 1   age                        1259 non-null   int64 \n",
            " 2   gender                     1259 non-null   object\n",
            " 3   country                    1259 non-null   object\n",
            " 4   state                      744 non-null    object\n",
            " 5   self_employed              1241 non-null   object\n",
            " 6   family_history             1259 non-null   object\n",
            " 7   treatment                  1259 non-null   object\n",
            " 8   work_interfere             995 non-null    object\n",
            " 9   no_employees               1259 non-null   object\n",
            " 10  remote_work                1259 non-null   object\n",
            " 11  tech_company               1259 non-null   object\n",
            " 12  benefits                   1259 non-null   object\n",
            " 13  care_options               1259 non-null   object\n",
            " 14  wellness_program           1259 non-null   object\n",
            " 15  seek_help                  1259 non-null   object\n",
            " 16  anonymity                  1259 non-null   object\n",
            " 17  leave                      1259 non-null   object\n",
            " 18  mental_health_consequence  1259 non-null   object\n",
            " 19  phys_health_consequence    1259 non-null   object\n",
            " 20  coworkers                  1259 non-null   object\n",
            " 21  supervisor                 1259 non-null   object\n",
            " 22  mental_health_interview    1259 non-null   object\n",
            " 23  phys_health_interview      1259 non-null   object\n",
            " 24  mental_vs_physical         1259 non-null   object\n",
            " 25  obs_consequence            1259 non-null   object\n",
            " 26  comments                   164 non-null    object\n",
            "dtypes: int64(1), object(26)\n",
            "memory usage: 265.7+ KB\n"
          ]
        }
      ],
      "source": [
        "df.info()"
      ]
    },
    {
      "cell_type": "markdown",
      "metadata": {
        "id": "g0GpT1OFu8ET"
      },
      "source": [
        "> - This data have 1.259 entries\n",
        "> - 27 columns and all are objects.\n",
        "> - some have missing value\n",
        "> - comments are optional, I'll exclude this as my feature\n",
        "> - State columns are dependent to US, I'll drop this column"
      ]
    },
    {
      "cell_type": "code",
      "execution_count": 5,
      "metadata": {
        "colab": {
          "base_uri": "https://localhost:8080/",
          "height": 483
        },
        "id": "fO4VUwLxtyAj",
        "outputId": "62519598-76b5-44a1-c01f-f374a9832085"
      },
      "outputs": [
        {
          "data": {
            "text/plain": [
              "<AxesSubplot:ylabel='treatment'>"
            ]
          },
          "execution_count": 5,
          "metadata": {},
          "output_type": "execute_result"
        },
        {
          "data": {
            "image/png": "[encoded data removed]",
            "text/plain": [
              "<Figure size 576x576 with 1 Axes>"
            ]
          },
          "metadata": {},
          "output_type": "display_data"
        }
      ],
      "source": [
        "targets = df.treatment.value_counts()\n",
        "targets.plot.pie(autopct='%1.1f%%', shadow=True, figsize=(8,8))"
      ]
    },
    {
      "cell_type": "markdown",
      "metadata": {
        "id": "DwWGq4UkzZLf"
      },
      "source": [
        "> 50% of data needs treatments, this data is balance enough"
      ]
    },
    {
      "cell_type": "markdown",
      "metadata": {
        "id": "yHghTIusyS88"
      },
      "source": [
        "# EDA"
      ]
    },
    {
      "cell_type": "markdown",
      "metadata": {
        "id": "pf6q4p4Kkbn5"
      },
      "source": [
        "## Changing format\n",
        "The target (treatment) needs to be in binary to analyze in EDA part"
      ]
    },
    {
      "cell_type": "code",
      "execution_count": 6,
      "metadata": {
        "id": "FfFP54zVzWYz"
      },
      "outputs": [],
      "source": [
        "df['treatment'] = (df['treatment'] == 'Yes').astype(int)"
      ]
    },
    {
      "cell_type": "markdown",
      "metadata": {
        "id": "6Hf0SZ-ikZT9"
      },
      "source": [
        "## Cardinality\n",
        "Cardinality will be checked based on categorical columns"
      ]
    },
    {
      "cell_type": "code",
      "execution_count": 7,
      "metadata": {
        "colab": {
          "base_uri": "https://localhost:8080/"
        },
        "id": "OD7ROL5c4VMY",
        "outputId": "6c7ec8ea-b344-4b81-87ac-6bc1848639de"
      },
      "outputs": [
        {
          "name": "stdout",
          "output_type": "stream",
          "text": [
            "jumlah cardinality pada kolom timestamp :  1246\n",
            "jumlah cardinality pada kolom gender :  49\n",
            "jumlah cardinality pada kolom country :  48\n",
            "jumlah cardinality pada kolom state :  46\n",
            "jumlah cardinality pada kolom self_employed :  3\n",
            "jumlah cardinality pada kolom family_history :  2\n",
            "jumlah cardinality pada kolom work_interfere :  5\n",
            "jumlah cardinality pada kolom no_employees :  6\n",
            "jumlah cardinality pada kolom remote_work :  2\n",
            "jumlah cardinality pada kolom tech_company :  2\n",
            "jumlah cardinality pada kolom benefits :  3\n",
            "jumlah cardinality pada kolom care_options :  3\n",
            "jumlah cardinality pada kolom wellness_program :  3\n",
            "jumlah cardinality pada kolom seek_help :  3\n",
            "jumlah cardinality pada kolom anonymity :  3\n",
            "jumlah cardinality pada kolom leave :  5\n",
            "jumlah cardinality pada kolom mental_health_consequence :  3\n",
            "jumlah cardinality pada kolom phys_health_consequence :  3\n",
            "jumlah cardinality pada kolom coworkers :  3\n",
            "jumlah cardinality pada kolom supervisor :  3\n",
            "jumlah cardinality pada kolom mental_health_interview :  3\n",
            "jumlah cardinality pada kolom phys_health_interview :  3\n",
            "jumlah cardinality pada kolom mental_vs_physical :  3\n",
            "jumlah cardinality pada kolom obs_consequence :  2\n",
            "jumlah cardinality pada kolom comments :  161\n"
          ]
        }
      ],
      "source": [
        "cardinal = df.select_dtypes(include='object')\n",
        "for uniq in cardinal : \n",
        "  print(f'jumlah cardinality pada kolom {uniq} : ',len(cardinal[uniq].unique()))"
      ]
    },
    {
      "cell_type": "markdown",
      "metadata": {
        "id": "cfyt_BWOADqY"
      },
      "source": [
        "> Need to reduce cardinality in timestamp, gender, country. However, timestamp is not really useful."
      ]
    },
    {
      "cell_type": "code",
      "execution_count": 8,
      "metadata": {
        "id": "94G2TfdZ2csx"
      },
      "outputs": [],
      "source": [
        "#reduce gender's cardinality\n",
        "df['gender'].replace(['Male ', 'Mal', 'maile', 'Make',\n",
        "                       'male', 'M', 'm', 'Male', 'Cis Male',\n",
        "                     'Man', 'cis male', 'Mail', 'Male-ish', 'Male (CIS)',\n",
        "                      'Cis Man', 'msle', 'Malr',], 'Male', inplace = True)\n",
        "\n",
        "df['gender'].replace(['Female ', 'female', 'cis-female/femme', 'Femake', \n",
        "                     'femail', 'Cis Female',  'Female (cis)',\n",
        "                     'woman', 'Female', 'F', 'f', 'Woman'],'Female', inplace = True)\n",
        "\n",
        "df[\"gender\"].replace(['ostensibly male, unsure what that really means', 'Genderqueer',\n",
        "                       'fluid', 'Nah', 'Female (trans)', 'non-binary', 'queer/she/they',\n",
        "                      'queer', 'Androgyne', 'Trans-female', 'male leaning androgynous',\n",
        "                      'Agender', 'A little about you',  'All',\n",
        "                       'Enby', 'p', 'Neuter', 'something kinda male?',\n",
        "                      'Guy (-ish) ^_^', 'Trans woman',], 'Other', inplace = True)"
      ]
    },
    {
      "cell_type": "code",
      "execution_count": 9,
      "metadata": {
        "id": "4bGltQGo89gK"
      },
      "outputs": [],
      "source": [
        "#reduce country cardinality based on their continent\n",
        "df['country'].replace(['United States','Canada', 'Brazil','Mexico',\n",
        "                       'Colombia','Uruguay', 'Costa Rica'\n",
        "                        ], 'America', inplace = True)\n",
        "\n",
        "df['country'].replace(['United Kingdom', 'Latvia', 'Spain','Hungary','Norway',\n",
        "                        'Czech Republic', 'Moldova','Portugal',\n",
        "                        'Denmark', 'Russia','Finland', 'Austria',\n",
        "                        'Belgium','Italy', 'Sweden','Switzerland',\n",
        "                        'Poland','France','Netherlands','Germany', 'Ireland'\n",
        "                        ],'Europe', inplace = True)\n",
        "\n",
        "df[\"country\"].replace(['India','Israel','Singapore','China', 'Thailand',\n",
        "                        'Japan', 'Philippines'], 'Asia', inplace = True)\n",
        "\n",
        "df[\"country\"].replace(['Bulgaria','Greece','Croatia','Romania',\n",
        "                        'Bosnia and Herzegovina',\n",
        "                        'Slovenia', 'Philippines'], 'Balkans', inplace = True)\n",
        "\n",
        "df[\"country\"].replace(['Australia','New Zealand'], 'Oceania', inplace = True)\n",
        "\n",
        "df[\"country\"].replace(['South Africa','Nigeria', 'Zimbabwe'], 'Africa', inplace = True)\n",
        "\n",
        "df[\"country\"].replace(['Bahamas, The', 'Georgia'], 'Others', inplace=True)"
      ]
    },
    {
      "cell_type": "code",
      "execution_count": 10,
      "metadata": {
        "id": "ngbBJ9NKkmI3"
      },
      "outputs": [],
      "source": [
        "#reduce age cardinality by grouping them\n",
        "bins_age= [16,30,45,99]\n",
        "labels_age = ['16-30','31-45','Above 45']\n",
        "df['age_'] = pd.cut(df['age'], bins=bins_age, labels=labels_age)"
      ]
    },
    {
      "cell_type": "markdown",
      "metadata": {
        "id": "vKOpJVDJkrdP"
      },
      "source": [
        "## Missing Value Check"
      ]
    },
    {
      "cell_type": "code",
      "execution_count": 11,
      "metadata": {
        "colab": {
          "base_uri": "https://localhost:8080/"
        },
        "id": "ALj8LfXGktbC",
        "outputId": "5c7e520d-b80e-4ec6-c619-893d06895806"
      },
      "outputs": [
        {
          "name": "stdout",
          "output_type": "stream",
          "text": [
            "<class 'pandas.core.frame.DataFrame'>\n",
            "RangeIndex: 1259 entries, 0 to 1258\n",
            "Data columns (total 28 columns):\n",
            " #   Column                     Non-Null Count  Dtype   \n",
            "---  ------                     --------------  -----   \n",
            " 0   timestamp                  1259 non-null   object  \n",
            " 1   age                        1259 non-null   int64   \n",
            " 2   gender                     1259 non-null   object  \n",
            " 3   country                    1259 non-null   object  \n",
            " 4   state                      744 non-null    object  \n",
            " 5   self_employed              1241 non-null   object  \n",
            " 6   family_history             1259 non-null   object  \n",
            " 7   treatment                  1259 non-null   int32   \n",
            " 8   work_interfere             995 non-null    object  \n",
            " 9   no_employees               1259 non-null   object  \n",
            " 10  remote_work                1259 non-null   object  \n",
            " 11  tech_company               1259 non-null   object  \n",
            " 12  benefits                   1259 non-null   object  \n",
            " 13  care_options               1259 non-null   object  \n",
            " 14  wellness_program           1259 non-null   object  \n",
            " 15  seek_help                  1259 non-null   object  \n",
            " 16  anonymity                  1259 non-null   object  \n",
            " 17  leave                      1259 non-null   object  \n",
            " 18  mental_health_consequence  1259 non-null   object  \n",
            " 19  phys_health_consequence    1259 non-null   object  \n",
            " 20  coworkers                  1259 non-null   object  \n",
            " 21  supervisor                 1259 non-null   object  \n",
            " 22  mental_health_interview    1259 non-null   object  \n",
            " 23  phys_health_interview      1259 non-null   object  \n",
            " 24  mental_vs_physical         1259 non-null   object  \n",
            " 25  obs_consequence            1259 non-null   object  \n",
            " 26  comments                   164 non-null    object  \n",
            " 27  age_                       1251 non-null   category\n",
            "dtypes: category(1), int32(1), int64(1), object(25)\n",
            "memory usage: 262.1+ KB\n"
          ]
        }
      ],
      "source": [
        "df.info()"
      ]
    },
    {
      "cell_type": "markdown",
      "metadata": {
        "id": "8OJLlxhWkvAx"
      },
      "source": [
        "> Column work_interefere and self_employed have missing value"
      ]
    },
    {
      "cell_type": "code",
      "execution_count": 12,
      "metadata": {
        "colab": {
          "base_uri": "https://localhost:8080/"
        },
        "id": "H12-6b02QO7a",
        "outputId": "9ff72b80-9ca7-49bf-882e-6b3d94b356ec"
      },
      "outputs": [
        {
          "data": {
            "text/plain": [
              "array([         37,          44,          32,          31,          33,\n",
              "                35,          39,          42,          23,          29,\n",
              "                36,          27,          46,          41,          34,\n",
              "                30,          40,          38,          50,          24,\n",
              "                18,          28,          26,          22,          19,\n",
              "                25,          45,          21,         -29,          43,\n",
              "                56,          60,          54,         329,          55,\n",
              "       99999999999,          48,          20,          57,          58,\n",
              "                47,          62,          51,          65,          49,\n",
              "             -1726,           5,          53,          61,           8,\n",
              "                11,          -1,          72], dtype=int64)"
            ]
          },
          "execution_count": 12,
          "metadata": {},
          "output_type": "execute_result"
        }
      ],
      "source": [
        "df.age.unique()"
      ]
    },
    {
      "cell_type": "markdown",
      "metadata": {
        "id": "RzLFAegQQR3O"
      },
      "source": [
        "> There are weird value in age column since it's impossible for people to have 9999 , negative, or extreme minimum age for work. This needs to be analyzed further"
      ]
    },
    {
      "cell_type": "code",
      "execution_count": 13,
      "metadata": {
        "colab": {
          "base_uri": "https://localhost:8080/"
        },
        "id": "Tc_AyEdxDXpA",
        "outputId": "1d5f3d06-acd9-4dc7-d683-e31e3da101d8"
      },
      "outputs": [
        {
          "data": {
            "text/plain": [
              "0.006354249404289118"
            ]
          },
          "execution_count": 13,
          "metadata": {},
          "output_type": "execute_result"
        }
      ],
      "source": [
        "#define weird value\n",
        "weird_age = df[(df['age'] < 18) | (df['age'] > 100)]\n",
        "len(weird_age)/len(df)"
      ]
    },
    {
      "cell_type": "markdown",
      "metadata": {
        "id": "VstnJNliFuaN"
      },
      "source": [
        "> There are only 8 value (0.006% data) we can drop this weird values later"
      ]
    },
    {
      "cell_type": "code",
      "execution_count": 14,
      "metadata": {
        "colab": {
          "base_uri": "https://localhost:8080/",
          "height": 835
        },
        "id": "tDKemEb_Hlui",
        "outputId": "c52a9219-e38c-485e-b0d3-260935d0b756"
      },
      "outputs": [
        {
          "data": {
            "text/html": [
              "<div>\n",
              "<style scoped>\n",
              "    .dataframe tbody tr th:only-of-type {\n",
              "        vertical-align: middle;\n",
              "    }\n",
              "\n",
              "    .dataframe tbody tr th {\n",
              "        vertical-align: top;\n",
              "    }\n",
              "\n",
              "    .dataframe thead th {\n",
              "        text-align: right;\n",
              "    }\n",
              "</style>\n",
              "<table border=\"1\" class=\"dataframe\">\n",
              "  <thead>\n",
              "    <tr style=\"text-align: right;\">\n",
              "      <th></th>\n",
              "      <th>timestamp</th>\n",
              "      <th>age</th>\n",
              "      <th>gender</th>\n",
              "      <th>country</th>\n",
              "      <th>state</th>\n",
              "      <th>self_employed</th>\n",
              "      <th>family_history</th>\n",
              "      <th>treatment</th>\n",
              "      <th>work_interfere</th>\n",
              "      <th>no_employees</th>\n",
              "      <th>remote_work</th>\n",
              "      <th>tech_company</th>\n",
              "      <th>benefits</th>\n",
              "      <th>care_options</th>\n",
              "      <th>wellness_program</th>\n",
              "      <th>seek_help</th>\n",
              "      <th>anonymity</th>\n",
              "      <th>leave</th>\n",
              "      <th>mental_health_consequence</th>\n",
              "      <th>phys_health_consequence</th>\n",
              "      <th>coworkers</th>\n",
              "      <th>supervisor</th>\n",
              "      <th>mental_health_interview</th>\n",
              "      <th>phys_health_interview</th>\n",
              "      <th>mental_vs_physical</th>\n",
              "      <th>obs_consequence</th>\n",
              "      <th>comments</th>\n",
              "      <th>age_</th>\n",
              "    </tr>\n",
              "  </thead>\n",
              "  <tbody>\n",
              "    <tr>\n",
              "      <th>19</th>\n",
              "      <td>2014-08-27 11:35:08</td>\n",
              "      <td>36</td>\n",
              "      <td>Male</td>\n",
              "      <td>Europe</td>\n",
              "      <td>NaN</td>\n",
              "      <td>Yes</td>\n",
              "      <td>Yes</td>\n",
              "      <td>0</td>\n",
              "      <td>NaN</td>\n",
              "      <td>6-25</td>\n",
              "      <td>Yes</td>\n",
              "      <td>Yes</td>\n",
              "      <td>No</td>\n",
              "      <td>No</td>\n",
              "      <td>Yes</td>\n",
              "      <td>No</td>\n",
              "      <td>Yes</td>\n",
              "      <td>Somewhat easy</td>\n",
              "      <td>No</td>\n",
              "      <td>No</td>\n",
              "      <td>Some of them</td>\n",
              "      <td>Some of them</td>\n",
              "      <td>Maybe</td>\n",
              "      <td>Maybe</td>\n",
              "      <td>Don't know</td>\n",
              "      <td>No</td>\n",
              "      <td>NaN</td>\n",
              "      <td>31-45</td>\n",
              "    </tr>\n",
              "    <tr>\n",
              "      <th>26</th>\n",
              "      <td>2014-08-27 11:37:23</td>\n",
              "      <td>33</td>\n",
              "      <td>Male</td>\n",
              "      <td>America</td>\n",
              "      <td>TN</td>\n",
              "      <td>No</td>\n",
              "      <td>No</td>\n",
              "      <td>0</td>\n",
              "      <td>NaN</td>\n",
              "      <td>1-5</td>\n",
              "      <td>No</td>\n",
              "      <td>Yes</td>\n",
              "      <td>Don't know</td>\n",
              "      <td>Not sure</td>\n",
              "      <td>No</td>\n",
              "      <td>Don't know</td>\n",
              "      <td>Don't know</td>\n",
              "      <td>Don't know</td>\n",
              "      <td>Maybe</td>\n",
              "      <td>Maybe</td>\n",
              "      <td>Some of them</td>\n",
              "      <td>No</td>\n",
              "      <td>No</td>\n",
              "      <td>No</td>\n",
              "      <td>Don't know</td>\n",
              "      <td>No</td>\n",
              "      <td>NaN</td>\n",
              "      <td>31-45</td>\n",
              "    </tr>\n",
              "    <tr>\n",
              "      <th>37</th>\n",
              "      <td>2014-08-27 11:41:50</td>\n",
              "      <td>38</td>\n",
              "      <td>Male</td>\n",
              "      <td>Europe</td>\n",
              "      <td>NaN</td>\n",
              "      <td>No</td>\n",
              "      <td>No</td>\n",
              "      <td>0</td>\n",
              "      <td>NaN</td>\n",
              "      <td>100-500</td>\n",
              "      <td>No</td>\n",
              "      <td>Yes</td>\n",
              "      <td>No</td>\n",
              "      <td>Yes</td>\n",
              "      <td>No</td>\n",
              "      <td>No</td>\n",
              "      <td>Don't know</td>\n",
              "      <td>Somewhat easy</td>\n",
              "      <td>Maybe</td>\n",
              "      <td>No</td>\n",
              "      <td>Some of them</td>\n",
              "      <td>Some of them</td>\n",
              "      <td>No</td>\n",
              "      <td>Maybe</td>\n",
              "      <td>No</td>\n",
              "      <td>No</td>\n",
              "      <td>NaN</td>\n",
              "      <td>31-45</td>\n",
              "    </tr>\n",
              "    <tr>\n",
              "      <th>38</th>\n",
              "      <td>2014-08-27 11:42:08</td>\n",
              "      <td>50</td>\n",
              "      <td>Male</td>\n",
              "      <td>America</td>\n",
              "      <td>IN</td>\n",
              "      <td>No</td>\n",
              "      <td>No</td>\n",
              "      <td>0</td>\n",
              "      <td>NaN</td>\n",
              "      <td>100-500</td>\n",
              "      <td>No</td>\n",
              "      <td>Yes</td>\n",
              "      <td>Yes</td>\n",
              "      <td>Yes</td>\n",
              "      <td>No</td>\n",
              "      <td>Don't know</td>\n",
              "      <td>Don't know</td>\n",
              "      <td>Don't know</td>\n",
              "      <td>No</td>\n",
              "      <td>No</td>\n",
              "      <td>Some of them</td>\n",
              "      <td>Yes</td>\n",
              "      <td>No</td>\n",
              "      <td>Maybe</td>\n",
              "      <td>Don't know</td>\n",
              "      <td>No</td>\n",
              "      <td>NaN</td>\n",
              "      <td>Above 45</td>\n",
              "    </tr>\n",
              "    <tr>\n",
              "      <th>41</th>\n",
              "      <td>2014-08-27 11:42:31</td>\n",
              "      <td>35</td>\n",
              "      <td>Male</td>\n",
              "      <td>America</td>\n",
              "      <td>MI</td>\n",
              "      <td>No</td>\n",
              "      <td>No</td>\n",
              "      <td>0</td>\n",
              "      <td>NaN</td>\n",
              "      <td>More than 1000</td>\n",
              "      <td>Yes</td>\n",
              "      <td>Yes</td>\n",
              "      <td>Yes</td>\n",
              "      <td>Not sure</td>\n",
              "      <td>Don't know</td>\n",
              "      <td>Yes</td>\n",
              "      <td>Don't know</td>\n",
              "      <td>Somewhat difficult</td>\n",
              "      <td>Yes</td>\n",
              "      <td>Yes</td>\n",
              "      <td>Some of them</td>\n",
              "      <td>No</td>\n",
              "      <td>No</td>\n",
              "      <td>Maybe</td>\n",
              "      <td>Don't know</td>\n",
              "      <td>No</td>\n",
              "      <td>NaN</td>\n",
              "      <td>31-45</td>\n",
              "    </tr>\n",
              "    <tr>\n",
              "      <th>...</th>\n",
              "      <td>...</td>\n",
              "      <td>...</td>\n",
              "      <td>...</td>\n",
              "      <td>...</td>\n",
              "      <td>...</td>\n",
              "      <td>...</td>\n",
              "      <td>...</td>\n",
              "      <td>...</td>\n",
              "      <td>...</td>\n",
              "      <td>...</td>\n",
              "      <td>...</td>\n",
              "      <td>...</td>\n",
              "      <td>...</td>\n",
              "      <td>...</td>\n",
              "      <td>...</td>\n",
              "      <td>...</td>\n",
              "      <td>...</td>\n",
              "      <td>...</td>\n",
              "      <td>...</td>\n",
              "      <td>...</td>\n",
              "      <td>...</td>\n",
              "      <td>...</td>\n",
              "      <td>...</td>\n",
              "      <td>...</td>\n",
              "      <td>...</td>\n",
              "      <td>...</td>\n",
              "      <td>...</td>\n",
              "      <td>...</td>\n",
              "    </tr>\n",
              "    <tr>\n",
              "      <th>1226</th>\n",
              "      <td>2015-02-21 17:19:18</td>\n",
              "      <td>39</td>\n",
              "      <td>Male</td>\n",
              "      <td>Europe</td>\n",
              "      <td>NaN</td>\n",
              "      <td>No</td>\n",
              "      <td>No</td>\n",
              "      <td>0</td>\n",
              "      <td>NaN</td>\n",
              "      <td>More than 1000</td>\n",
              "      <td>No</td>\n",
              "      <td>No</td>\n",
              "      <td>Yes</td>\n",
              "      <td>Not sure</td>\n",
              "      <td>Yes</td>\n",
              "      <td>Don't know</td>\n",
              "      <td>Don't know</td>\n",
              "      <td>Somewhat easy</td>\n",
              "      <td>Maybe</td>\n",
              "      <td>Maybe</td>\n",
              "      <td>No</td>\n",
              "      <td>Some of them</td>\n",
              "      <td>No</td>\n",
              "      <td>No</td>\n",
              "      <td>Yes</td>\n",
              "      <td>No</td>\n",
              "      <td>NaN</td>\n",
              "      <td>31-45</td>\n",
              "    </tr>\n",
              "    <tr>\n",
              "      <th>1229</th>\n",
              "      <td>2015-02-22 02:40:32</td>\n",
              "      <td>39</td>\n",
              "      <td>Male</td>\n",
              "      <td>Balkans</td>\n",
              "      <td>NaN</td>\n",
              "      <td>No</td>\n",
              "      <td>No</td>\n",
              "      <td>0</td>\n",
              "      <td>NaN</td>\n",
              "      <td>6-25</td>\n",
              "      <td>Yes</td>\n",
              "      <td>Yes</td>\n",
              "      <td>No</td>\n",
              "      <td>No</td>\n",
              "      <td>No</td>\n",
              "      <td>No</td>\n",
              "      <td>Yes</td>\n",
              "      <td>Don't know</td>\n",
              "      <td>Yes</td>\n",
              "      <td>No</td>\n",
              "      <td>No</td>\n",
              "      <td>No</td>\n",
              "      <td>No</td>\n",
              "      <td>No</td>\n",
              "      <td>Don't know</td>\n",
              "      <td>No</td>\n",
              "      <td>NaN</td>\n",
              "      <td>31-45</td>\n",
              "    </tr>\n",
              "    <tr>\n",
              "      <th>1244</th>\n",
              "      <td>2015-05-05 15:16:25</td>\n",
              "      <td>32</td>\n",
              "      <td>Female</td>\n",
              "      <td>Europe</td>\n",
              "      <td>NaN</td>\n",
              "      <td>No</td>\n",
              "      <td>No</td>\n",
              "      <td>0</td>\n",
              "      <td>NaN</td>\n",
              "      <td>More than 1000</td>\n",
              "      <td>No</td>\n",
              "      <td>No</td>\n",
              "      <td>No</td>\n",
              "      <td>No</td>\n",
              "      <td>No</td>\n",
              "      <td>Don't know</td>\n",
              "      <td>Don't know</td>\n",
              "      <td>Don't know</td>\n",
              "      <td>Maybe</td>\n",
              "      <td>No</td>\n",
              "      <td>Some of them</td>\n",
              "      <td>Yes</td>\n",
              "      <td>No</td>\n",
              "      <td>Yes</td>\n",
              "      <td>No</td>\n",
              "      <td>No</td>\n",
              "      <td>NaN</td>\n",
              "      <td>31-45</td>\n",
              "    </tr>\n",
              "    <tr>\n",
              "      <th>1254</th>\n",
              "      <td>2015-09-12 11:17:21</td>\n",
              "      <td>26</td>\n",
              "      <td>Male</td>\n",
              "      <td>Europe</td>\n",
              "      <td>NaN</td>\n",
              "      <td>No</td>\n",
              "      <td>No</td>\n",
              "      <td>1</td>\n",
              "      <td>NaN</td>\n",
              "      <td>26-100</td>\n",
              "      <td>No</td>\n",
              "      <td>Yes</td>\n",
              "      <td>No</td>\n",
              "      <td>No</td>\n",
              "      <td>No</td>\n",
              "      <td>No</td>\n",
              "      <td>Don't know</td>\n",
              "      <td>Somewhat easy</td>\n",
              "      <td>No</td>\n",
              "      <td>No</td>\n",
              "      <td>Some of them</td>\n",
              "      <td>Some of them</td>\n",
              "      <td>No</td>\n",
              "      <td>No</td>\n",
              "      <td>Don't know</td>\n",
              "      <td>No</td>\n",
              "      <td>NaN</td>\n",
              "      <td>16-30</td>\n",
              "    </tr>\n",
              "    <tr>\n",
              "      <th>1257</th>\n",
              "      <td>2015-11-30 21:25:06</td>\n",
              "      <td>46</td>\n",
              "      <td>Female</td>\n",
              "      <td>America</td>\n",
              "      <td>NC</td>\n",
              "      <td>No</td>\n",
              "      <td>No</td>\n",
              "      <td>0</td>\n",
              "      <td>NaN</td>\n",
              "      <td>100-500</td>\n",
              "      <td>Yes</td>\n",
              "      <td>Yes</td>\n",
              "      <td>No</td>\n",
              "      <td>Yes</td>\n",
              "      <td>No</td>\n",
              "      <td>No</td>\n",
              "      <td>Don't know</td>\n",
              "      <td>Don't know</td>\n",
              "      <td>Yes</td>\n",
              "      <td>No</td>\n",
              "      <td>No</td>\n",
              "      <td>No</td>\n",
              "      <td>No</td>\n",
              "      <td>No</td>\n",
              "      <td>No</td>\n",
              "      <td>No</td>\n",
              "      <td>NaN</td>\n",
              "      <td>Above 45</td>\n",
              "    </tr>\n",
              "  </tbody>\n",
              "</table>\n",
              "<p>264 rows × 28 columns</p>\n",
              "</div>"
            ],
            "text/plain": [
              "                timestamp  age  gender  country state self_employed  \\\n",
              "19    2014-08-27 11:35:08   36    Male   Europe   NaN           Yes   \n",
              "26    2014-08-27 11:37:23   33    Male  America    TN            No   \n",
              "37    2014-08-27 11:41:50   38    Male   Europe   NaN            No   \n",
              "38    2014-08-27 11:42:08   50    Male  America    IN            No   \n",
              "41    2014-08-27 11:42:31   35    Male  America    MI            No   \n",
              "...                   ...  ...     ...      ...   ...           ...   \n",
              "1226  2015-02-21 17:19:18   39    Male   Europe   NaN            No   \n",
              "1229  2015-02-22 02:40:32   39    Male  Balkans   NaN            No   \n",
              "1244  2015-05-05 15:16:25   32  Female   Europe   NaN            No   \n",
              "1254  2015-09-12 11:17:21   26    Male   Europe   NaN            No   \n",
              "1257  2015-11-30 21:25:06   46  Female  America    NC            No   \n",
              "\n",
              "     family_history  treatment work_interfere    no_employees remote_work  \\\n",
              "19              Yes          0            NaN            6-25         Yes   \n",
              "26               No          0            NaN             1-5          No   \n",
              "37               No          0            NaN         100-500          No   \n",
              "38               No          0            NaN         100-500          No   \n",
              "41               No          0            NaN  More than 1000         Yes   \n",
              "...             ...        ...            ...             ...         ...   \n",
              "1226             No          0            NaN  More than 1000          No   \n",
              "1229             No          0            NaN            6-25         Yes   \n",
              "1244             No          0            NaN  More than 1000          No   \n",
              "1254             No          1            NaN          26-100          No   \n",
              "1257             No          0            NaN         100-500         Yes   \n",
              "\n",
              "     tech_company    benefits care_options wellness_program   seek_help  \\\n",
              "19            Yes          No           No              Yes          No   \n",
              "26            Yes  Don't know     Not sure               No  Don't know   \n",
              "37            Yes          No          Yes               No          No   \n",
              "38            Yes         Yes          Yes               No  Don't know   \n",
              "41            Yes         Yes     Not sure       Don't know         Yes   \n",
              "...           ...         ...          ...              ...         ...   \n",
              "1226           No         Yes     Not sure              Yes  Don't know   \n",
              "1229          Yes          No           No               No          No   \n",
              "1244           No          No           No               No  Don't know   \n",
              "1254          Yes          No           No               No          No   \n",
              "1257          Yes          No          Yes               No          No   \n",
              "\n",
              "       anonymity               leave mental_health_consequence  \\\n",
              "19           Yes       Somewhat easy                        No   \n",
              "26    Don't know          Don't know                     Maybe   \n",
              "37    Don't know       Somewhat easy                     Maybe   \n",
              "38    Don't know          Don't know                        No   \n",
              "41    Don't know  Somewhat difficult                       Yes   \n",
              "...          ...                 ...                       ...   \n",
              "1226  Don't know       Somewhat easy                     Maybe   \n",
              "1229         Yes          Don't know                       Yes   \n",
              "1244  Don't know          Don't know                     Maybe   \n",
              "1254  Don't know       Somewhat easy                        No   \n",
              "1257  Don't know          Don't know                       Yes   \n",
              "\n",
              "     phys_health_consequence     coworkers    supervisor  \\\n",
              "19                        No  Some of them  Some of them   \n",
              "26                     Maybe  Some of them            No   \n",
              "37                        No  Some of them  Some of them   \n",
              "38                        No  Some of them           Yes   \n",
              "41                       Yes  Some of them            No   \n",
              "...                      ...           ...           ...   \n",
              "1226                   Maybe            No  Some of them   \n",
              "1229                      No            No            No   \n",
              "1244                      No  Some of them           Yes   \n",
              "1254                      No  Some of them  Some of them   \n",
              "1257                      No            No            No   \n",
              "\n",
              "     mental_health_interview phys_health_interview mental_vs_physical  \\\n",
              "19                     Maybe                 Maybe         Don't know   \n",
              "26                        No                    No         Don't know   \n",
              "37                        No                 Maybe                 No   \n",
              "38                        No                 Maybe         Don't know   \n",
              "41                        No                 Maybe         Don't know   \n",
              "...                      ...                   ...                ...   \n",
              "1226                      No                    No                Yes   \n",
              "1229                      No                    No         Don't know   \n",
              "1244                      No                   Yes                 No   \n",
              "1254                      No                    No         Don't know   \n",
              "1257                      No                    No                 No   \n",
              "\n",
              "     obs_consequence comments      age_  \n",
              "19                No      NaN     31-45  \n",
              "26                No      NaN     31-45  \n",
              "37                No      NaN     31-45  \n",
              "38                No      NaN  Above 45  \n",
              "41                No      NaN     31-45  \n",
              "...              ...      ...       ...  \n",
              "1226              No      NaN     31-45  \n",
              "1229              No      NaN     31-45  \n",
              "1244              No      NaN     31-45  \n",
              "1254              No      NaN     16-30  \n",
              "1257              No      NaN  Above 45  \n",
              "\n",
              "[264 rows x 28 columns]"
            ]
          },
          "execution_count": 14,
          "metadata": {},
          "output_type": "execute_result"
        }
      ],
      "source": [
        "#check missing value in work_interfere column\n",
        "missing_work_interfere = df.loc[df['work_interfere'].isnull()]\n",
        "missing_work_interfere"
      ]
    },
    {
      "cell_type": "code",
      "execution_count": 15,
      "metadata": {
        "colab": {
          "base_uri": "https://localhost:8080/"
        },
        "id": "wArw1u1_I1S3",
        "outputId": "5eae7580-3eff-4d52-f547-dd9ecc1497ab"
      },
      "outputs": [
        {
          "data": {
            "text/plain": [
              "0.2096902303415409"
            ]
          },
          "execution_count": 15,
          "metadata": {},
          "output_type": "execute_result"
        }
      ],
      "source": [
        "len(missing_work_interfere)/len(df)"
      ]
    },
    {
      "cell_type": "markdown",
      "metadata": {
        "id": "SJAuvn1UIsfi"
      },
      "source": [
        "> 2% of Missing value at work_interfere features completely at random since there's no pattern why they don't fill the form (MCAR). I'll fill it with it's mode"
      ]
    },
    {
      "cell_type": "markdown",
      "metadata": {
        "id": "zy55P2-tlJD4"
      },
      "source": [
        "## Category's Analysis\n",
        "\n",
        "In this sub, I want to see how's the features (category) correlation with those employee who have done treatments. Since the columns all are category, we can't use correlation from pandas `directly` since it only works for numerical only. I want to calculate the average of worker who have sought treatment based the categories to give an order of it's `ordinality` and count the correlation score towards target. If the correlation score results high, then I'll select it as my feature.\n",
        "\n",
        "Please note that the graph shown below are graph that shows onlyemployee **who did treatment** before"
      ]
    },
    {
      "cell_type": "code",
      "execution_count": 16,
      "metadata": {
        "id": "j01RLarAcwqw"
      },
      "outputs": [],
      "source": [
        "from matplotlib import cm"
      ]
    },
    {
      "cell_type": "code",
      "execution_count": 17,
      "metadata": {
        "id": "-YmyIlnIKbEw"
      },
      "outputs": [],
      "source": [
        "def correlation_plot (cat1) :\n",
        "  cmap = cm.get_cmap('Pastel2')\n",
        "  df.groupby(cat1).mean()['treatment'].sort_values(ascending=False).plot(kind='bar', figsize=(10,5), colormap = cmap)\n",
        "  # # _df.groupby(cat2).sum()['treatment'].sort_values(ascending=False).plot(kind='bar', figsize=(10,5))\n",
        "  plt.xlabel(cat1)\n",
        "  plt.ylabel('Average of Worker Who needs Treatment')\n",
        "  plt.title(f'Correlation between {cat1} and Treatment')"
      ]
    },
    {
      "cell_type": "code",
      "execution_count": 18,
      "metadata": {
        "colab": {
          "base_uri": "https://localhost:8080/",
          "height": 376
        },
        "id": "HyER-SJRWNIu",
        "outputId": "d98972e4-332c-47c5-cbde-a8004e4afa12"
      },
      "outputs": [
        {
          "data": {
            "image/png": "[encoded data removed]",
            "text/plain": [
              "<Figure size 720x360 with 1 Axes>"
            ]
          },
          "metadata": {
            "needs_background": "light"
          },
          "output_type": "display_data"
        }
      ],
      "source": [
        "correlation_plot('gender');"
      ]
    },
    {
      "cell_type": "markdown",
      "metadata": {
        "id": "qSct0Rpy01gK"
      },
      "source": [
        "> Based on gender, worker who have `other` as gender have sought treatment more often  "
      ]
    },
    {
      "cell_type": "code",
      "execution_count": 19,
      "metadata": {
        "id": "_uOPjbegH7AC"
      },
      "outputs": [],
      "source": [
        "df['gender_'] = df['gender'].replace({\n",
        "    'Male' : 1,\n",
        "    'Female' : 2,\n",
        "    'Other' : 3\n",
        "})"
      ]
    },
    {
      "cell_type": "code",
      "execution_count": 20,
      "metadata": {
        "colab": {
          "base_uri": "https://localhost:8080/",
          "height": 387
        },
        "id": "s3QQpjSIJib1",
        "outputId": "2752170b-b1fc-405c-912f-e0c82940979e"
      },
      "outputs": [
        {
          "data": {
            "image/png": "[encoded data removed]",
            "text/plain": [
              "<Figure size 720x360 with 1 Axes>"
            ]
          },
          "metadata": {
            "needs_background": "light"
          },
          "output_type": "display_data"
        }
      ],
      "source": [
        "correlation_plot('age_')"
      ]
    },
    {
      "cell_type": "markdown",
      "metadata": {
        "id": "4R0DBBIa2Dei"
      },
      "source": [
        "> Based on age, worker who aged `above 45` have sought treatment more often  "
      ]
    },
    {
      "cell_type": "code",
      "execution_count": 21,
      "metadata": {
        "id": "tIrVdUThIsLO"
      },
      "outputs": [],
      "source": [
        "df['age__'] = df['age_'].replace({\n",
        "    '16-30' : 1,\n",
        "    '31-45' : 2,\n",
        "    'Above 45' : 3\n",
        "})"
      ]
    },
    {
      "cell_type": "code",
      "execution_count": 22,
      "metadata": {
        "colab": {
          "base_uri": "https://localhost:8080/",
          "height": 381
        },
        "id": "ogLMru6eQhjk",
        "outputId": "8ad99938-0ec1-43a4-9e84-78f134d9f353"
      },
      "outputs": [
        {
          "data": {
            "image/png": "[encoded data removed]",
            "text/plain": [
              "<Figure size 720x360 with 1 Axes>"
            ]
          },
          "metadata": {
            "needs_background": "light"
          },
          "output_type": "display_data"
        }
      ],
      "source": [
        "correlation_plot('country')"
      ]
    },
    {
      "cell_type": "markdown",
      "metadata": {
        "id": "k9P712EQ2Pek"
      },
      "source": [
        "> Based on continent, worker who live in `Oceania` have sought treatment more often  "
      ]
    },
    {
      "cell_type": "code",
      "execution_count": 23,
      "metadata": {
        "id": "5QiW9jNiJMJq"
      },
      "outputs": [],
      "source": [
        "df['continent_'] = df['country'].replace({\n",
        "    'Asia' : 1,\n",
        "    'Europe' : 2,\n",
        "    'Balkans' : 3,\n",
        "    'Others' : 4,\n",
        "    'America' : 5, \n",
        "    'Oceania' : 6,\n",
        "    'Africa' : 7,\n",
        "})"
      ]
    },
    {
      "cell_type": "code",
      "execution_count": 24,
      "metadata": {
        "colab": {
          "base_uri": "https://localhost:8080/",
          "height": 357
        },
        "id": "H_e6qUi4QkDH",
        "outputId": "7eb5e4ca-e445-43e8-d379-5ff14c6f8e7c"
      },
      "outputs": [
        {
          "data": {
            "image/png": "[encoded data removed]",
            "text/plain": [
              "<Figure size 720x360 with 1 Axes>"
            ]
          },
          "metadata": {
            "needs_background": "light"
          },
          "output_type": "display_data"
        }
      ],
      "source": [
        "correlation_plot('self_employed')"
      ]
    },
    {
      "cell_type": "markdown",
      "metadata": {
        "id": "B3K9Jotv2VoE"
      },
      "source": [
        "> Question : Are you self-employed?\n",
        "\n",
        "> Analyze : Based on self_employed, worker who is  `self employed` have sought treatment more often  "
      ]
    },
    {
      "cell_type": "code",
      "execution_count": 25,
      "metadata": {
        "id": "oIs36qHsJ05v"
      },
      "outputs": [],
      "source": [
        "df['self_employed_'] = df['self_employed'].replace({\n",
        "    'No' : 1,\n",
        "    'Yes' : 2,\n",
        "})"
      ]
    },
    {
      "cell_type": "code",
      "execution_count": 26,
      "metadata": {
        "colab": {
          "base_uri": "https://localhost:8080/",
          "height": 357
        },
        "id": "20N812dLQnXj",
        "outputId": "aeff0e03-37c3-46bc-95c7-c8ff65980dd0"
      },
      "outputs": [
        {
          "data": {
            "image/png": "[encoded data removed]",
            "text/plain": [
              "<Figure size 720x360 with 1 Axes>"
            ]
          },
          "metadata": {
            "needs_background": "light"
          },
          "output_type": "display_data"
        }
      ],
      "source": [
        "correlation_plot('family_history')"
      ]
    },
    {
      "cell_type": "markdown",
      "metadata": {
        "id": "5p4ZiKFH2u92"
      },
      "source": [
        "> Question : Do you have a family history of mental illness?\n",
        "\n",
        "> Based on the family history, worker who have family history on medical condition have sought treatment more often. This is normal because they pay attention more to mental health"
      ]
    },
    {
      "cell_type": "code",
      "execution_count": 27,
      "metadata": {
        "id": "NTBvSbVxJ2cv"
      },
      "outputs": [],
      "source": [
        "df['family_history_'] = df['family_history'].replace({\n",
        "    'No' : 1,\n",
        "    'Yes' : 2,\n",
        "})"
      ]
    },
    {
      "cell_type": "code",
      "execution_count": 28,
      "metadata": {
        "colab": {
          "base_uri": "https://localhost:8080/",
          "height": 396
        },
        "id": "HVnq29MTQrdp",
        "outputId": "1df3fd10-1c71-4ac7-cffe-026046e84156"
      },
      "outputs": [
        {
          "data": {
            "image/png": "[encoded data removed]",
            "text/plain": [
              "<Figure size 720x360 with 1 Axes>"
            ]
          },
          "metadata": {
            "needs_background": "light"
          },
          "output_type": "display_data"
        }
      ],
      "source": [
        "correlation_plot('work_interfere')"
      ]
    },
    {
      "cell_type": "markdown",
      "metadata": {
        "id": "N07omrzF2_6X"
      },
      "source": [
        "> Question : If you have a mental health condition, do you feel that it interferes with your work?\n",
        "\n",
        "> Analyze : Employee who feel their mental health `often` interfere their work, have sought treatment more often  "
      ]
    },
    {
      "cell_type": "code",
      "execution_count": 29,
      "metadata": {
        "id": "ABa2C86lJ7cj"
      },
      "outputs": [],
      "source": [
        "df['work_interfere_'] = df['work_interfere'].replace({\n",
        "    'Never' : 1,\n",
        "    'Rarely' : 2,\n",
        "    'Sometimes' : 3,\n",
        "    'Often' : 4\n",
        "})"
      ]
    },
    {
      "cell_type": "code",
      "execution_count": 30,
      "metadata": {
        "colab": {
          "base_uri": "https://localhost:8080/",
          "height": 418
        },
        "id": "itvNbEeIQwMn",
        "outputId": "a3bb2e1c-d20c-4426-ec65-6f8332394c8c"
      },
      "outputs": [
        {
          "data": {
            "image/png": "[encoded data removed]",
            "text/plain": [
              "<Figure size 720x360 with 1 Axes>"
            ]
          },
          "metadata": {
            "needs_background": "light"
          },
          "output_type": "display_data"
        }
      ],
      "source": [
        "correlation_plot('no_employees')"
      ]
    },
    {
      "cell_type": "markdown",
      "metadata": {
        "id": "BCE_dnuF4tXT"
      },
      "source": [
        "> Question : If you have a mental health condition, do you feel that it interferes with your work?\n",
        "\n",
        "> Analyze : i think there's no pattern between the number since it's abstract pattern between small company/large company"
      ]
    },
    {
      "cell_type": "code",
      "execution_count": 31,
      "metadata": {
        "colab": {
          "base_uri": "https://localhost:8080/",
          "height": 357
        },
        "id": "Bu-CZaSpQ1Qp",
        "outputId": "30ab81e8-67d2-4698-ce82-afaaeda81a7c"
      },
      "outputs": [
        {
          "data": {
            "image/png": "[encoded data removed]",
            "text/plain": [
              "<Figure size 720x360 with 1 Axes>"
            ]
          },
          "metadata": {
            "needs_background": "light"
          },
          "output_type": "display_data"
        }
      ],
      "source": [
        "correlation_plot('remote_work')"
      ]
    },
    {
      "cell_type": "markdown",
      "metadata": {
        "id": "1XqSleTf5F0e"
      },
      "source": [
        "> Question : Do you work remotely (outside of an office) at least 50% of the time?\n",
        "\n",
        "> Analyze : Employee who work remotely have seek treatment more often."
      ]
    },
    {
      "cell_type": "code",
      "execution_count": 32,
      "metadata": {
        "id": "B4AfUl1XKEiK"
      },
      "outputs": [],
      "source": [
        "df['remote_work_'] = df['remote_work'].replace({\n",
        "    'No' : 1,\n",
        "    'Yes' : 2,\n",
        "})"
      ]
    },
    {
      "cell_type": "code",
      "execution_count": 33,
      "metadata": {
        "colab": {
          "base_uri": "https://localhost:8080/",
          "height": 357
        },
        "id": "OgrJhajkQ5bI",
        "outputId": "bcf42d57-b637-4a5d-f16c-65040b75fe8c"
      },
      "outputs": [
        {
          "data": {
            "image/png": "[encoded data removed]",
            "text/plain": [
              "<Figure size 720x360 with 1 Axes>"
            ]
          },
          "metadata": {
            "needs_background": "light"
          },
          "output_type": "display_data"
        }
      ],
      "source": [
        "correlation_plot('tech_company')"
      ]
    },
    {
      "cell_type": "markdown",
      "metadata": {
        "id": "kEiE5fMV5crL"
      },
      "source": [
        "> Question : Is your employer primarily a tech company/organization?\n",
        "\n",
        "> ANalyze :  Worker who don't work at tech' company, did treatment more often"
      ]
    },
    {
      "cell_type": "code",
      "execution_count": 34,
      "metadata": {
        "id": "CbGjBK_HKMrz"
      },
      "outputs": [],
      "source": [
        "df['tech_company_'] = df['tech_company'].replace({\n",
        "    'Yes' : 1,\n",
        "    'No' : 2\n",
        "})"
      ]
    },
    {
      "cell_type": "code",
      "execution_count": 35,
      "metadata": {
        "colab": {
          "base_uri": "https://localhost:8080/",
          "height": 396
        },
        "id": "SEzWkiNgQ8OC",
        "outputId": "2bba5e7f-313a-4a72-ec9c-b5619b788f74"
      },
      "outputs": [
        {
          "data": {
            "image/png": "[encoded data removed]",
            "text/plain": [
              "<Figure size 720x360 with 1 Axes>"
            ]
          },
          "metadata": {
            "needs_background": "light"
          },
          "output_type": "display_data"
        }
      ],
      "source": [
        "correlation_plot('benefits')"
      ]
    },
    {
      "cell_type": "markdown",
      "metadata": {
        "id": "2mk2JxWH7rSR"
      },
      "source": [
        "> Question : Does your employer provide mental health benefits?\n",
        "\n",
        "> Analyze : When the company provide mental health benefits, the worker seek treatment more often"
      ]
    },
    {
      "cell_type": "code",
      "execution_count": 36,
      "metadata": {
        "id": "X49UzXSKKTRD"
      },
      "outputs": [],
      "source": [
        "df['benefits_'] = df['benefits'].replace({\n",
        "    \"Don't know\" : 1,\n",
        "    'No' : 2,\n",
        "    'Yes' : 3,\n",
        "})"
      ]
    },
    {
      "cell_type": "code",
      "execution_count": 37,
      "metadata": {
        "colab": {
          "base_uri": "https://localhost:8080/",
          "height": 382
        },
        "id": "VDgX8d7HRAQ_",
        "outputId": "8436a4c5-4def-4dae-b7fe-26108204ff34"
      },
      "outputs": [
        {
          "data": {
            "image/png": "[encoded data removed]",
            "text/plain": [
              "<Figure size 720x360 with 1 Axes>"
            ]
          },
          "metadata": {
            "needs_background": "light"
          },
          "output_type": "display_data"
        }
      ],
      "source": [
        "correlation_plot('care_options')"
      ]
    },
    {
      "cell_type": "markdown",
      "metadata": {
        "id": "2noiODLc8O-6"
      },
      "source": [
        "> Question : Do you know the options for mental health care your employer provides?\n",
        "\n",
        "> Analyze : When the worker knows what are options for their mental health provided by company, they tend to seek for treatment"
      ]
    },
    {
      "cell_type": "code",
      "execution_count": 38,
      "metadata": {
        "id": "l0F_0RUELs_p"
      },
      "outputs": [],
      "source": [
        "df['care_options_'] = df['care_options'].replace({\n",
        "    \"Not sure\" : 1,\n",
        "    'No' : 2,\n",
        "    'Yes' : 3,\n",
        "})"
      ]
    },
    {
      "cell_type": "code",
      "execution_count": 39,
      "metadata": {
        "colab": {
          "base_uri": "https://localhost:8080/",
          "height": 397
        },
        "id": "ffKptqq_RC1y",
        "outputId": "83f6aedf-5240-4246-d19f-6cc512bb7f51"
      },
      "outputs": [
        {
          "data": {
            "image/png": "[encoded data removed]",
            "text/plain": [
              "<Figure size 720x360 with 1 Axes>"
            ]
          },
          "metadata": {
            "needs_background": "light"
          },
          "output_type": "display_data"
        }
      ],
      "source": [
        "correlation_plot('wellness_program')"
      ]
    },
    {
      "cell_type": "markdown",
      "metadata": {
        "id": "82jYeYDn8mpC"
      },
      "source": [
        ">Question : Do you know the options for mental health care your employer provides?\n",
        "\n",
        ">Analyze :  When the company ever discussed mental health as their employee wellness program (yes). the worker tend to seek for treatment"
      ]
    },
    {
      "cell_type": "code",
      "execution_count": 40,
      "metadata": {
        "id": "P9lOLH3LLy7S"
      },
      "outputs": [],
      "source": [
        "df['wellness_program_'] = df['wellness_program'].replace({\n",
        "    \"Don't know\" : 1,\n",
        "    'No' : 2,\n",
        "    'Yes' : 3,\n",
        "})"
      ]
    },
    {
      "cell_type": "code",
      "execution_count": 41,
      "metadata": {
        "colab": {
          "base_uri": "https://localhost:8080/",
          "height": 397
        },
        "id": "etuPmK7ARH_E",
        "outputId": "7b52098e-f1b5-47fc-a54d-ba1ddac310dc"
      },
      "outputs": [
        {
          "data": {
            "image/png": "[encoded data removed]",
            "text/plain": [
              "<Figure size 720x360 with 1 Axes>"
            ]
          },
          "metadata": {
            "needs_background": "light"
          },
          "output_type": "display_data"
        }
      ],
      "source": [
        "correlation_plot('seek_help')"
      ]
    },
    {
      "cell_type": "code",
      "execution_count": 42,
      "metadata": {
        "id": "hPmPTa8EL57E"
      },
      "outputs": [],
      "source": [
        "df['seek_help_'] = df['seek_help'].replace({\n",
        "    \"Don't know\" : 1,\n",
        "    'No' : 2,\n",
        "    'Yes' : 3,\n",
        "})"
      ]
    },
    {
      "cell_type": "markdown",
      "metadata": {
        "id": "QQrflOwiERfC"
      },
      "source": [
        "> Question : Does your employer provide resources to learn more about mental health issues and how to seek help?\n",
        "\n",
        "> Analyze : When the employer provide resource to learn mentalh health & how to seek help, the worker will likely have seek for treatment\n"
      ]
    },
    {
      "cell_type": "code",
      "execution_count": 43,
      "metadata": {
        "colab": {
          "base_uri": "https://localhost:8080/",
          "height": 396
        },
        "id": "G6jm32rBRLmx",
        "outputId": "5f695a5d-a3d6-494e-ff04-3d5d705f60db"
      },
      "outputs": [
        {
          "data": {
            "image/png": "[encoded data removed]",
            "text/plain": [
              "<Figure size 720x360 with 1 Axes>"
            ]
          },
          "metadata": {
            "needs_background": "light"
          },
          "output_type": "display_data"
        }
      ],
      "source": [
        "correlation_plot('anonymity')"
      ]
    },
    {
      "cell_type": "markdown",
      "metadata": {
        "id": "VXCG_XjzEqeF"
      },
      "source": [
        "> Question : Is your anonymity protected if you choose to take advantage of mental health or substance abuse treatment resources?\n",
        "\n",
        "> Analyze : When the worker anonymity is safe (yes) then they have have done treatment more often"
      ]
    },
    {
      "cell_type": "code",
      "execution_count": 44,
      "metadata": {
        "id": "aqff8GPqL9tJ"
      },
      "outputs": [],
      "source": [
        "df['anonymity_'] = df['anonymity'].replace({\n",
        "    \"Don't know\" : 1,\n",
        "    'No' : 2,\n",
        "    'Yes' : 3,\n",
        "})"
      ]
    },
    {
      "cell_type": "code",
      "execution_count": 45,
      "metadata": {
        "colab": {
          "base_uri": "https://localhost:8080/",
          "height": 432
        },
        "id": "HPlGo2F2d9-t",
        "outputId": "2314713e-5000-4783-fb9e-d70db0794c11"
      },
      "outputs": [
        {
          "data": {
            "image/png": "[encoded data removed]",
            "text/plain": [
              "<Figure size 720x360 with 1 Axes>"
            ]
          },
          "metadata": {
            "needs_background": "light"
          },
          "output_type": "display_data"
        }
      ],
      "source": [
        "correlation_plot('leave')"
      ]
    },
    {
      "cell_type": "markdown",
      "metadata": {
        "id": "SL-ukhymF3Ws"
      },
      "source": [
        "> Question : How easy is it for you to take medical leave for a mental health condition?\n",
        "\n",
        "> Analyze : those worker who have difficulty to take leave for mental health condition tends to seek treatment more often"
      ]
    },
    {
      "cell_type": "code",
      "execution_count": 46,
      "metadata": {
        "id": "e3rQB1-WMBtD"
      },
      "outputs": [],
      "source": [
        "df['leave_'] = df['leave'].replace({\n",
        "    \"Don't know\" : 1,\n",
        "    'Somewhat easy' : 2,\n",
        "    'Very easy' : 3,\n",
        "    'Somewhat difficult' : 4,\n",
        "    'Very difficult' : 5\n",
        "})"
      ]
    },
    {
      "cell_type": "code",
      "execution_count": 47,
      "metadata": {
        "colab": {
          "base_uri": "https://localhost:8080/",
          "height": 373
        },
        "id": "PSgmqzFGeAp2",
        "outputId": "cf74ec99-8d54-4f59-ed49-cdc17a7f442a"
      },
      "outputs": [
        {
          "data": {
            "image/png": "[encoded data removed]",
            "text/plain": [
              "<Figure size 720x360 with 1 Axes>"
            ]
          },
          "metadata": {
            "needs_background": "light"
          },
          "output_type": "display_data"
        }
      ],
      "source": [
        "correlation_plot('mental_health_consequence')"
      ]
    },
    {
      "cell_type": "markdown",
      "metadata": {
        "id": "OG2FJkjHGLA4"
      },
      "source": [
        "> Question : Do you think that discussing a mental health issue with your employer would have negative consequences?\n",
        "\n",
        "> Analuze : Those worker who don't trust their employer to talk about mental health tends to seek treatment."
      ]
    },
    {
      "cell_type": "code",
      "execution_count": 48,
      "metadata": {
        "id": "45RlFXvrMNbd"
      },
      "outputs": [],
      "source": [
        "df['mental_health_consequence_'] = df['mental_health_consequence'].replace({\n",
        "    \"No\" : 1,\n",
        "    'Maybe' : 2,\n",
        "    'Yes' : 3,\n",
        "})"
      ]
    },
    {
      "cell_type": "code",
      "execution_count": 49,
      "metadata": {
        "colab": {
          "base_uri": "https://localhost:8080/",
          "height": 373
        },
        "id": "1ZLU2hN2eDo-",
        "outputId": "59742beb-b58a-47bc-b945-d6784e13ad52"
      },
      "outputs": [
        {
          "data": {
            "image/png": "[encoded data removed]",
            "text/plain": [
              "<Figure size 720x360 with 1 Axes>"
            ]
          },
          "metadata": {
            "needs_background": "light"
          },
          "output_type": "display_data"
        }
      ],
      "source": [
        "correlation_plot('phys_health_consequence')"
      ]
    },
    {
      "cell_type": "markdown",
      "metadata": {
        "id": "mJ_p7UN8Gas0"
      },
      "source": [
        "> Question : Do you think that discussing a physical health issue with your employer would have negative consequences?\n",
        "\n",
        "> Analyze : this results represents the same as meantal_health_consequences. Those worker who don't trust their employer to talk about mental health tends to seek treatment."
      ]
    },
    {
      "cell_type": "code",
      "execution_count": 50,
      "metadata": {
        "id": "wwiUc8UmMcR9"
      },
      "outputs": [],
      "source": [
        "df['phys_health_consequence_'] = df['phys_health_consequence'].replace({\n",
        "    \"No\" : 1,\n",
        "    'Maybe' : 2,\n",
        "    'Yes' : 3,\n",
        "})"
      ]
    },
    {
      "cell_type": "code",
      "execution_count": 51,
      "metadata": {
        "colab": {
          "base_uri": "https://localhost:8080/",
          "height": 410
        },
        "id": "InbeRvoReJ0a",
        "outputId": "250adc7d-3c36-4496-ed1e-ce827a1184d4"
      },
      "outputs": [
        {
          "data": {
            "image/png": "[encoded data removed]",
            "text/plain": [
              "<Figure size 720x360 with 1 Axes>"
            ]
          },
          "metadata": {
            "needs_background": "light"
          },
          "output_type": "display_data"
        }
      ],
      "source": [
        "correlation_plot('coworkers')"
      ]
    },
    {
      "cell_type": "markdown",
      "metadata": {
        "id": "D6RhVcEbGoTi"
      },
      "source": [
        "> Question : Would you be willing to discuss a mental health issue with your coworkers?\n",
        "\n",
        "> Analyze : When the worker trust their coworkers, they still want to sek treatment. "
      ]
    },
    {
      "cell_type": "code",
      "execution_count": 52,
      "metadata": {
        "id": "45Nm8MH_MiQ3"
      },
      "outputs": [],
      "source": [
        "df['coworkers_'] = df['coworkers'].replace({\n",
        "    \"No\" : 1,\n",
        "    'Some of them' : 2,\n",
        "    'Yes' : 3,\n",
        "})"
      ]
    },
    {
      "cell_type": "code",
      "execution_count": 53,
      "metadata": {
        "colab": {
          "base_uri": "https://localhost:8080/",
          "height": 410
        },
        "id": "d-dSLtvxeN2a",
        "outputId": "cb7660f1-f778-46e5-9644-9d441bbf40e3"
      },
      "outputs": [
        {
          "data": {
            "image/png": "[encoded data removed]",
            "text/plain": [
              "<Figure size 720x360 with 1 Axes>"
            ]
          },
          "metadata": {
            "needs_background": "light"
          },
          "output_type": "display_data"
        }
      ],
      "source": [
        "correlation_plot('supervisor')"
      ]
    },
    {
      "cell_type": "markdown",
      "metadata": {
        "id": "Y7SBfI1MG1-9"
      },
      "source": [
        "> question : Would you be willing to discuss a mental health issue with your direct supervisor(s)?\n",
        "\n",
        "> Analyze : When the worker don't trust their supervisor, they prefer to seek treatment"
      ]
    },
    {
      "cell_type": "code",
      "execution_count": 54,
      "metadata": {
        "id": "3HmSaIbSMnXE"
      },
      "outputs": [],
      "source": [
        "df['supervisor_'] = df['supervisor'].replace({\n",
        "    \"Yes\" : 1,\n",
        "    'Some of them' : 2,\n",
        "    'No' : 3,\n",
        "})"
      ]
    },
    {
      "cell_type": "code",
      "execution_count": 55,
      "metadata": {
        "colab": {
          "base_uri": "https://localhost:8080/",
          "height": 373
        },
        "id": "vRTwrR74eRia",
        "outputId": "bcf08f03-946f-4d19-a940-3a919ade0456"
      },
      "outputs": [
        {
          "data": {
            "image/png": "[encoded data removed]",
            "text/plain": [
              "<Figure size 720x360 with 1 Axes>"
            ]
          },
          "metadata": {
            "needs_background": "light"
          },
          "output_type": "display_data"
        }
      ],
      "source": [
        "correlation_plot('mental_health_interview')"
      ]
    },
    {
      "cell_type": "markdown",
      "metadata": {
        "id": "WTo6_umaHHUm"
      },
      "source": [
        "> Question : Would you bring up a mental health issue with a potential employer in an interview?\n",
        "\n",
        "> Answer : When the worker choose to speak up about mental health with empoloyer during interview, they have done treatment more often."
      ]
    },
    {
      "cell_type": "code",
      "execution_count": 56,
      "metadata": {
        "id": "uCd_4oCXMuNY"
      },
      "outputs": [],
      "source": [
        "df['mental_health_interview_'] = df['mental_health_interview'].replace({\n",
        "    \"Maybe\" : 1,\n",
        "    'No' : 2,\n",
        "    'Yes' : 3,\n",
        "})"
      ]
    },
    {
      "cell_type": "code",
      "execution_count": 57,
      "metadata": {
        "colab": {
          "base_uri": "https://localhost:8080/",
          "height": 373
        },
        "id": "Ur454ZN6eVJl",
        "outputId": "7f00dfb0-a597-4b1f-8258-0ef93ed84ca6"
      },
      "outputs": [
        {
          "data": {
            "image/png": "[encoded data removed]",
            "text/plain": [
              "<Figure size 720x360 with 1 Axes>"
            ]
          },
          "metadata": {
            "needs_background": "light"
          },
          "output_type": "display_data"
        }
      ],
      "source": [
        "correlation_plot('phys_health_interview')"
      ]
    },
    {
      "cell_type": "markdown",
      "metadata": {
        "id": "6ff6dNSeHWT2"
      },
      "source": [
        "> Question :  Would you bring up a physical health issue with a potential employer in an interview?\n",
        "\n",
        "> Answer : When the worker choose to speak up about physical health with empoloyer during interview, they have done treatment more often."
      ]
    },
    {
      "cell_type": "code",
      "execution_count": 58,
      "metadata": {
        "id": "Z91TIDTsM0IB"
      },
      "outputs": [],
      "source": [
        "df['phys_health_interview_'] = df['phys_health_interview'].replace({\n",
        "    \"Maybe\" : 1,\n",
        "    'No' : 2,\n",
        "    'Yes' : 3,\n",
        "})"
      ]
    },
    {
      "cell_type": "code",
      "execution_count": 59,
      "metadata": {
        "colab": {
          "base_uri": "https://localhost:8080/",
          "height": 397
        },
        "id": "c9Z2We4leYPB",
        "outputId": "dbf6b0ba-5704-485c-b8a5-96cfe3c977a4"
      },
      "outputs": [
        {
          "data": {
            "image/png": "[encoded data removed]",
            "text/plain": [
              "<Figure size 720x360 with 1 Axes>"
            ]
          },
          "metadata": {
            "needs_background": "light"
          },
          "output_type": "display_data"
        }
      ],
      "source": [
        "correlation_plot('mental_vs_physical')"
      ]
    },
    {
      "cell_type": "markdown",
      "metadata": {
        "id": "snE7m0YQHdNT"
      },
      "source": [
        "> Question : Do you feel that your employer takes mental health as seriously as physical health?\n",
        "\n",
        "> ANalyze : When the employer don't take mental health seriously, the worker will seek for treatments"
      ]
    },
    {
      "cell_type": "code",
      "execution_count": 60,
      "metadata": {
        "id": "vogfSIBtM6vh"
      },
      "outputs": [],
      "source": [
        "df['mental_vs_physical_'] = df['mental_vs_physical'].replace({\n",
        "    \"Don't know\" : 1,\n",
        "    'Yes' : 2,\n",
        "    'No' : 3,\n",
        "})"
      ]
    },
    {
      "cell_type": "code",
      "execution_count": 61,
      "metadata": {
        "colab": {
          "base_uri": "https://localhost:8080/",
          "height": 357
        },
        "id": "NrQ3H8YDebUK",
        "outputId": "fd4038e1-7339-49b7-cfe8-8e30a7c9b1af"
      },
      "outputs": [
        {
          "data": {
            "image/png": "[encoded data removed]",
            "text/plain": [
              "<Figure size 720x360 with 1 Axes>"
            ]
          },
          "metadata": {
            "needs_background": "light"
          },
          "output_type": "display_data"
        }
      ],
      "source": [
        "correlation_plot('obs_consequence')"
      ]
    },
    {
      "cell_type": "markdown",
      "metadata": {
        "id": "QqhoUwuTHrDe"
      },
      "source": [
        "> Question : Have you heard of or observed negative consequences for coworkers with mental health conditions in your workplace?\n",
        "\n",
        "> Analyze : When the worker knows about `observed negative consequences`, they are people who have done treatment often"
      ]
    },
    {
      "cell_type": "code",
      "execution_count": 62,
      "metadata": {
        "id": "OR8w03WkNDl9"
      },
      "outputs": [],
      "source": [
        "df['obs_consequence_'] = df['obs_consequence'].replace({\n",
        "    \"No\" : 1,\n",
        "    'Yes' : 2,\n",
        "})"
      ]
    },
    {
      "cell_type": "markdown",
      "metadata": {
        "id": "-KFT9RhQlg50"
      },
      "source": [
        "### Correlations With Targets"
      ]
    },
    {
      "cell_type": "code",
      "execution_count": 63,
      "metadata": {
        "colab": {
          "base_uri": "https://localhost:8080/",
          "height": 638
        },
        "id": "RKQctx5qNU_4",
        "outputId": "dd76806b-40f1-4f8b-dc55-50c5b78e56d2"
      },
      "outputs": [
        {
          "data": {
            "text/plain": [
              "<matplotlib.lines.Line2D at 0x20c782a24f0>"
            ]
          },
          "execution_count": 63,
          "metadata": {},
          "output_type": "execute_result"
        },
        {
          "data": {
            "image/png": "[encoded data removed]",
            "text/plain": [
              "<Figure size 1440x576 with 1 Axes>"
            ]
          },
          "metadata": {
            "needs_background": "light"
          },
          "output_type": "display_data"
        }
      ],
      "source": [
        "corr_score = df.corr()['treatment'].sort_values()\n",
        "corr_score.plot(kind='bar', figsize=(20,8))\n",
        "plt.axhline(y=0.1, color='r', ls='--')\n",
        "plt.axhline(y=0.2, color='g', ls='--')"
      ]
    },
    {
      "cell_type": "markdown",
      "metadata": {
        "id": "A35p4Lg9drka"
      },
      "source": [
        "> Features that have high correlation (> 0.1) are continent, mental_health_consequence, anonymity, leave, obs_consequence, gender, benefits, care_options, family_history, and work_interfere"
      ]
    },
    {
      "cell_type": "markdown",
      "metadata": {
        "id": "HKLTcxKKd8zh"
      },
      "source": [
        "## EDA RESULT AND INSIGHT\n",
        "\n",
        "Now, we need to predict whether our new employee/current employee need treatment or not. How do we predict that? We predict that by understanding their behaviour and their perspective towards our works.\n",
        "\n",
        "When there's correlation between each feature to our target (treatment), then those feature are pretty much important for our prediction. In This case, those features are continent, mental_health_consequence, anonymity, leave, obs_consequence, gender, benefits, care_options, family_history, and work_interfere.\n",
        "\n",
        "There are 2 perspective for this case: First, Employee's profile. Second, Company's profile.\n",
        "\n",
        "1. Employee's Profile\n",
        "- Continent = Those who came from Afrika might have high pressure in work\n",
        "- Family History = Those employee with a history of mental illness in their family, pays attention more on mental health. They have higher possibilites of needing treatment\n",
        "- Work Interfere = Employee who have mental illness issue and `Often` interfere their performance at work tends to need treatment for their mental condition\n",
        "- Gender = Others/Undefined/Queer gender mostly had treatment before, this means if we have an employee with `Queer` as their gender, there's a big possibility that they need treatment.\n",
        "\n",
        "> In Conclusions, those are employees we need to pay attention about their needs of treatments\n",
        "\n",
        "2. Company's Profile\n",
        "- Mental health consequence = When the employee can't trust their company, they'll choose to do treatments.\n",
        "- Anonymity = If the employee anonymity is protected, then they're fine to do treatments.\n",
        "- Leave = If the employee have difficulty in taking leave for their mental health, they're more likely in needing treatments. condition.\n",
        "- Obs Consequence = When the worker knows about observed negative consequences, they are people who have done treatment often\n",
        "- Benefits = Those employee did treatment because their company provide mental health benefits. \n",
        "- Care Options = Those employee who have options for their mental health provided by their company tends to do treatment for their mental health\n",
        "\n",
        "> In conclusions, if the company `willing to treat their employee` then they have to make sure their company is safe enough to speak up about mental health. In example : Makesure the employee trust the company so they don't need to do treatments, or the company may give them an easy way to take a leave due to the employee's mental condition.\n",
        "\n"
      ]
    },
    {
      "cell_type": "markdown",
      "metadata": {
        "id": "HVEj7YwQmTl0"
      },
      "source": [
        "# Data Preprocessing"
      ]
    },
    {
      "cell_type": "markdown",
      "metadata": {
        "id": "bTaD9orYmVYO"
      },
      "source": [
        "## Split Data"
      ]
    },
    {
      "cell_type": "code",
      "execution_count": 64,
      "metadata": {
        "id": "8JOLaBOPeRtM"
      },
      "outputs": [],
      "source": [
        "random_state=150\n",
        "df_inf = df.sample(5, random_state=random_state) #5 for sample\n",
        "df_train_test = df.drop(df_inf.index)\n",
        "\n",
        "df_train_test = df_train_test.reset_index(drop=True)\n",
        "df_inf = df_inf.reset_index(drop=True)\n",
        "\n",
        "X = df_train_test.drop('treatment', axis=1)\n",
        "y = df_train_test['treatment']\n",
        "\n",
        "X_trainval, X_testval, y_trainval, y_testval = train_test_split(X, y, test_size=0.2, random_state=random_state) #20% for test set"
      ]
    },
    {
      "cell_type": "markdown",
      "metadata": {
        "id": "Wl4SvV-Fnb7o"
      },
      "source": [
        "## Outliers\n",
        "I've stated before that this data have no outliers because all of this features are category"
      ]
    },
    {
      "cell_type": "markdown",
      "metadata": {
        "id": "W4fojpQBnjgV"
      },
      "source": [
        "## Handle Missing Value\n",
        "\n",
        "For all missing value will be imputed with the mode using Pipeline"
      ]
    },
    {
      "cell_type": "code",
      "execution_count": 65,
      "metadata": {},
      "outputs": [],
      "source": [
        "X_trainval.age_.dropna(inplace=True)"
      ]
    },
    {
      "cell_type": "markdown",
      "metadata": {
        "id": "4XBTBTZ-p3qu"
      },
      "source": [
        "## Feature Engineering\n",
        "\n",
        "The feature i use here are feature with >0.1 correlation\n",
        "\n"
      ]
    },
    {
      "cell_type": "code",
      "execution_count": 66,
      "metadata": {
        "id": "4LjTK0Vap40Z"
      },
      "outputs": [],
      "source": [
        "feature = ['country', 'mental_health_consequence', 'anonymity', \n",
        "           'leave', 'obs_consequence', 'gender', 'benefits', \n",
        "           'care_options', 'family_history', 'work_interfere']"
      ]
    },
    {
      "cell_type": "code",
      "execution_count": 68,
      "metadata": {},
      "outputs": [],
      "source": [
        "continent_ordinal = OrdinalEncoder(categories=[[ 'Asia' ,\n",
        "    'Europe' ,\n",
        "    'Balkans',\n",
        "    'Others',\n",
        "    'America', \n",
        "    'Oceania',\n",
        "    'Africa'\n",
        "]])\n",
        "mental_ordinal = OrdinalEncoder(categories=[[\n",
        "    \"No\",\n",
        "    'Maybe',\n",
        "    'Yes'\n",
        "]])\n",
        "\n",
        "anonymity_ordinal = OrdinalEncoder(categories=[[\n",
        "    \"Don't know\",\n",
        "    'No',\n",
        "    'Yes'\n",
        "]])\n",
        "\n",
        "benefits_ordinal = OrdinalEncoder(categories=[[\n",
        "    \"Don't know\",\n",
        "    'No',\n",
        "    'Yes'\n",
        "\n",
        "]])\n",
        "leave_ordinal = OrdinalEncoder(categories=[[\n",
        "    \"Don't know\",\n",
        "    'Somewhat easy',\n",
        "    'Very easy',\n",
        "    'Somewhat difficult',\n",
        "    'Very difficult'\n",
        "]])\n",
        "obs_ordinal = OrdinalEncoder(categories=[[\n",
        "    \"No\" ,\n",
        "    'Yes'\n",
        "]])\n",
        "\n",
        "family_ordinal = OrdinalEncoder(categories=[[\n",
        "    \"No\" ,\n",
        "    'Yes'\n",
        "]])\n",
        "gender_ordinal = OrdinalEncoder(categories=[[\n",
        "    'Male' ,\n",
        "    'Female',\n",
        "    'Other'\n",
        "]])\n",
        "\n",
        "care_ordinal = OrdinalEncoder(categories=[[\n",
        "    \"Not sure\",\n",
        "    'No',\n",
        "    'Yes'\n",
        "]])\n",
        "work_interfere_ordinal = OrdinalEncoder(categories=[[\n",
        "    'Never' ,\n",
        "    'Rarely',\n",
        "    'Sometimes' ,\n",
        "    'Often' \n",
        "]])"
      ]
    },
    {
      "cell_type": "code",
      "execution_count": 69,
      "metadata": {},
      "outputs": [],
      "source": [
        "cols = X_trainval.columns.tolist()"
      ]
    },
    {
      "cell_type": "code",
      "execution_count": 70,
      "metadata": {
        "id": "hhUx0Q_nnnjX"
      },
      "outputs": [],
      "source": [
        "missing_pipeline = Pipeline([('imputer', SimpleImputer(strategy='most_frequent'))])\n",
        "\n",
        "prep_pipeline = ColumnTransformer([\n",
        "    ('continent', Pipeline([\n",
        "        ('impute',SimpleImputer(strategy='most_frequent')),\n",
        "        ('ordinal',continent_ordinal)\n",
        "        ]), ['country'] ),\n",
        "    ('mhc', Pipeline([\n",
        "        ('impute',SimpleImputer(strategy='most_frequent')),\n",
        "        ('ordinal',mental_ordinal)\n",
        "        ]), ['mental_health_consequence'] ),\n",
        "    ('anon', Pipeline([\n",
        "        ('impute',SimpleImputer(strategy='most_frequent')),\n",
        "        ('ordinal',anonymity_ordinal)\n",
        "        ]), ['anonymity'] ),\n",
        "    ('benefit',Pipeline([\n",
        "        ('impute',SimpleImputer(strategy='most_frequent')),\n",
        "        ('ordinal',benefits_ordinal)\n",
        "        ]) , ['benefits'] ),\n",
        "    ('leave', Pipeline([\n",
        "        ('impute',SimpleImputer(strategy='most_frequent')),\n",
        "        ('ordinal',leave_ordinal)\n",
        "        ]) , ['leave'] ),\n",
        "    ('obs', Pipeline([\n",
        "        ('impute',SimpleImputer(strategy='most_frequent')),\n",
        "        ('ordinal',obs_ordinal)\n",
        "        ]) , ['obs_consequence'] ),\n",
        "    ('family', Pipeline([\n",
        "        ('impute',SimpleImputer(strategy='most_frequent')),\n",
        "        ('ordinal',family_ordinal)\n",
        "        ]) , ['family_history'] ),\n",
        "    ('gender', Pipeline([\n",
        "        ('impute',SimpleImputer(strategy='most_frequent')),\n",
        "        ('ordinal',gender_ordinal)\n",
        "        ]) , ['gender'] ),\n",
        "    ('care', Pipeline([\n",
        "        ('impute',SimpleImputer(strategy='most_frequent')),\n",
        "        ('ordinal',care_ordinal)\n",
        "        ]) , ['care_options'] ),\n",
        "    ('wi',Pipeline([\n",
        "        ('impute',SimpleImputer(strategy='most_frequent')),\n",
        "        ('ordinal',work_interfere_ordinal)\n",
        "        ]) , ['work_interfere'] )\n",
        "])"
      ]
    },
    {
      "cell_type": "code",
      "execution_count": 71,
      "metadata": {
        "id": "SR_pWqadrGI4"
      },
      "outputs": [],
      "source": [
        "#create pipeline for 4 models\n",
        "pipe_lr = Pipeline([\n",
        "                     ('prep', prep_pipeline),\n",
        "                     ('lr', LogisticRegression(random_state=random_state))\n",
        "                     ])\n",
        "\n",
        "pipe_rf = Pipeline([\n",
        "                     ('prep', prep_pipeline),\n",
        "                     ('rf', RandomForestClassifier(random_state=random_state))\n",
        "                     ])\n",
        "\n",
        "pipe_svm = Pipeline([\n",
        "                     ('prep', prep_pipeline),\n",
        "                     ('svm', SVC(max_iter=5_000,random_state=random_state)) #max_iter = 5000 agar proses fit tidak terlalu lama\n",
        "                     ])\n",
        "pipe_knn = Pipeline([\n",
        "                     ('prep', prep_pipeline),\n",
        "                     ('knn', KNeighborsClassifier())\n",
        "                     ])\n",
        "\n",
        "pipe_gb = Pipeline([\n",
        "                     ('prep', prep_pipeline),\n",
        "                     ('gb', GradientBoostingClassifier(random_state=random_state))\n",
        "                     ])"
      ]
    },
    {
      "cell_type": "code",
      "execution_count": 72,
      "metadata": {
        "id": "xBw1VvYCsN0k"
      },
      "outputs": [],
      "source": [
        "#create pipeline for parameters each model\n",
        "param_lr = {\n",
        "    'lr__penalty' : [ 'l2', 'l1'],\n",
        "    'lr__C' : [0.01, 0.1, 1],\n",
        "    'lr__solver' : [ 'liblinear', 'saga']\n",
        "}\n",
        "\n",
        "\n",
        "param_svm = {\n",
        "    'svm__kernel' : ['linear', 'poly', 'rbf', 'sigmoid'],\n",
        "    'svm__C': [0.01, 0.1, 1],\n",
        "    'svm__degree': [2,3,5]\n",
        "}\n",
        "\n",
        "param_rf = {\n",
        "    'rf__n_estimators' : [100,200],\n",
        "    'rf__criterion' : ['gini', 'entropy'],\n",
        "    'rf__max_depth': [5,10, None]\n",
        "}\n",
        "\n",
        "param_knn = {\n",
        "    'knn__n_neighbors' : [3,5,8],\n",
        "    'knn__weights' : ['uniform', 'distance'],\n",
        "    'knn__p' : [1,2]\n",
        "}\n",
        "\n",
        "param_gb = {\n",
        "    'gb__n_estimators' : [200,60, 40],\n",
        "    'gb__learning_rate' : [0.1 , 0.05],\n",
        "    'gb__min_samples_split' : [2,4],\n",
        "    'gb__max_depth' : [5, 8,None]\n",
        "}"
      ]
    },
    {
      "cell_type": "markdown",
      "metadata": {
        "id": "d6mQ8hkytI2a"
      },
      "source": [
        "# Model Training"
      ]
    },
    {
      "cell_type": "code",
      "execution_count": 73,
      "metadata": {
        "colab": {
          "base_uri": "https://localhost:8080/"
        },
        "id": "xWGVLgTqtGqf",
        "outputId": "a4194b81-f5d9-48d0-ced2-376ff113836c"
      },
      "outputs": [
        {
          "data": {
            "text/plain": [
              "Pipeline(steps=[('prep',\n",
              "                 ColumnTransformer(transformers=[('continent',\n",
              "                                                  Pipeline(steps=[('impute',\n",
              "                                                                   SimpleImputer(strategy='most_frequent')),\n",
              "                                                                  ('ordinal',\n",
              "                                                                   OrdinalEncoder(categories=[['Asia',\n",
              "                                                                                               'Europe',\n",
              "                                                                                               'Balkans',\n",
              "                                                                                               'Others',\n",
              "                                                                                               'America',\n",
              "                                                                                               'Oceania',\n",
              "                                                                                               'Africa']]))]),\n",
              "                                                  ['country']),\n",
              "                                                 ('mhc',\n",
              "                                                  Pipeline(steps=[('impute',\n",
              "                                                                   SimpleImputer(strategy='most_frequent')),\n",
              "                                                                  ('ordinal',\n",
              "                                                                   Ordinal...\n",
              "                                                                   SimpleImputer(strategy='most_frequent')),\n",
              "                                                                  ('ordinal',\n",
              "                                                                   OrdinalEncoder(categories=[['Not '\n",
              "                                                                                               'sure',\n",
              "                                                                                               'No',\n",
              "                                                                                               'Yes']]))]),\n",
              "                                                  ['care_options']),\n",
              "                                                 ('wi',\n",
              "                                                  Pipeline(steps=[('impute',\n",
              "                                                                   SimpleImputer(strategy='most_frequent')),\n",
              "                                                                  ('ordinal',\n",
              "                                                                   OrdinalEncoder(categories=[['Never',\n",
              "                                                                                               'Rarely',\n",
              "                                                                                               'Sometimes',\n",
              "                                                                                               'Often']]))]),\n",
              "                                                  ['work_interfere'])])),\n",
              "                ('gb', GradientBoostingClassifier(random_state=150))])"
            ]
          },
          "execution_count": 73,
          "metadata": {},
          "output_type": "execute_result"
        }
      ],
      "source": [
        "pipe_lr.fit(X_trainval, y_trainval)\n",
        "pipe_svm.fit(X_trainval, y_trainval)\n",
        "pipe_rf.fit(X_trainval, y_trainval)\n",
        "pipe_knn.fit(X_trainval, y_trainval)\n",
        "pipe_gb.fit(X_trainval, y_trainval)"
      ]
    },
    {
      "cell_type": "markdown",
      "metadata": {
        "id": "GwzV9HvZw8sW"
      },
      "source": [
        "# Model Evaluation\n",
        "\n",
        "I'm using `accuracy` as my score because my targets is balance enough. Note to mention is our datasets is small, we can;t use too much cv. Therefore i'll only use 3 cv"
      ]
    },
    {
      "cell_type": "markdown",
      "metadata": {
        "id": "O5ilfB-jSiXD"
      },
      "source": [
        "## Cross Val Score"
      ]
    },
    {
      "cell_type": "code",
      "execution_count": 74,
      "metadata": {
        "id": "4ew0l_mRxSlL"
      },
      "outputs": [],
      "source": [
        "score_lr = cross_val_score(pipe_lr, X_trainval, y_trainval, cv=3, scoring=\"f1\")\n",
        "score_svm = cross_val_score(pipe_svm, X_trainval, y_trainval, cv=3,scoring=\"f1\")\n",
        "score_knn = cross_val_score(pipe_knn, X_trainval, y_trainval, cv=3,scoring=\"f1\")\n",
        "score_rf = cross_val_score(pipe_rf, X_trainval, y_trainval, cv=3,scoring=\"f1\")\n",
        "score_gb = cross_val_score(pipe_gb, X_trainval, y_trainval, cv=3,scoring=\"f1\")"
      ]
    },
    {
      "cell_type": "code",
      "execution_count": 75,
      "metadata": {
        "id": "xf9Ji9Sgxrgb"
      },
      "outputs": [],
      "source": [
        "acc_mean_train = [np.mean(score_lr), np.mean(score_svm), np.mean(score_rf), np.mean(score_knn), np.mean(score_gb)]\n",
        "acc_std_train = [np.std(score_lr), np.std(score_svm), np.std(score_rf), np.std(score_knn), np.std(score_gb)]"
      ]
    },
    {
      "cell_type": "code",
      "execution_count": 76,
      "metadata": {
        "id": "OdFwNbRQxy6D"
      },
      "outputs": [],
      "source": [
        "models = ['Logisstic Regression', 'SVM','Random Forest','KNN', 'GradientBoosting']"
      ]
    },
    {
      "cell_type": "code",
      "execution_count": 77,
      "metadata": {
        "colab": {
          "base_uri": "https://localhost:8080/",
          "height": 175
        },
        "id": "H7OfMGgux8c7",
        "outputId": "d610284d-e105-4f79-a9a4-7fa85823b0aa"
      },
      "outputs": [
        {
          "data": {
            "text/html": [
              "<div>\n",
              "<style scoped>\n",
              "    .dataframe tbody tr th:only-of-type {\n",
              "        vertical-align: middle;\n",
              "    }\n",
              "\n",
              "    .dataframe tbody tr th {\n",
              "        vertical-align: top;\n",
              "    }\n",
              "\n",
              "    .dataframe thead th {\n",
              "        text-align: right;\n",
              "    }\n",
              "</style>\n",
              "<table border=\"1\" class=\"dataframe\">\n",
              "  <thead>\n",
              "    <tr style=\"text-align: right;\">\n",
              "      <th></th>\n",
              "      <th>Models</th>\n",
              "      <th>Mean of Accuracy Train</th>\n",
              "      <th>Std of Accuracy Train</th>\n",
              "    </tr>\n",
              "  </thead>\n",
              "  <tbody>\n",
              "    <tr>\n",
              "      <th>0</th>\n",
              "      <td>GradientBoosting</td>\n",
              "      <td>0.742279</td>\n",
              "      <td>0.020512</td>\n",
              "    </tr>\n",
              "    <tr>\n",
              "      <th>1</th>\n",
              "      <td>Logisstic Regression</td>\n",
              "      <td>0.734544</td>\n",
              "      <td>0.015675</td>\n",
              "    </tr>\n",
              "    <tr>\n",
              "      <th>2</th>\n",
              "      <td>SVM</td>\n",
              "      <td>0.734530</td>\n",
              "      <td>0.010660</td>\n",
              "    </tr>\n",
              "    <tr>\n",
              "      <th>3</th>\n",
              "      <td>Random Forest</td>\n",
              "      <td>0.726540</td>\n",
              "      <td>0.006517</td>\n",
              "    </tr>\n",
              "    <tr>\n",
              "      <th>4</th>\n",
              "      <td>KNN</td>\n",
              "      <td>0.674961</td>\n",
              "      <td>0.017345</td>\n",
              "    </tr>\n",
              "  </tbody>\n",
              "</table>\n",
              "</div>"
            ],
            "text/plain": [
              "                 Models  Mean of Accuracy Train  Std of Accuracy Train\n",
              "0      GradientBoosting                0.742279               0.020512\n",
              "1  Logisstic Regression                0.734544               0.015675\n",
              "2                   SVM                0.734530               0.010660\n",
              "3         Random Forest                0.726540               0.006517\n",
              "4                   KNN                0.674961               0.017345"
            ]
          },
          "execution_count": 77,
          "metadata": {},
          "output_type": "execute_result"
        }
      ],
      "source": [
        "#membuat dataframe untuk cross validation \n",
        "cv_train = pd.DataFrame({'Models' : models, 'Mean of Accuracy Train' : acc_mean_train, 'Std of Accuracy Train': acc_std_train})\n",
        "cv_train.sort_values(by='Mean of Accuracy Train', ascending=False).reset_index(drop=True)"
      ]
    },
    {
      "cell_type": "markdown",
      "metadata": {
        "id": "XmYuPQafSfIa"
      },
      "source": [
        "## GridSearchCV"
      ]
    },
    {
      "cell_type": "code",
      "execution_count": 78,
      "metadata": {
        "colab": {
          "base_uri": "https://localhost:8080/"
        },
        "id": "pToX1RoCEYMx",
        "outputId": "a4381278-42d5-4ae7-9408-fc5b04ec91ba"
      },
      "outputs": [
        {
          "name": "stdout",
          "output_type": "stream",
          "text": [
            "Fitting 3 folds for each of 36 candidates, totalling 108 fits\n"
          ]
        }
      ],
      "source": [
        "grid_gb = GridSearchCV(pipe_gb, param_gb, cv=3, verbose=True, scoring=\"f1\").fit(X_trainval, y_trainval)"
      ]
    },
    {
      "cell_type": "code",
      "execution_count": 79,
      "metadata": {
        "colab": {
          "base_uri": "https://localhost:8080/"
        },
        "id": "s_ruEo-RzXVW",
        "outputId": "efbf8459-7d4a-4ba3-beaa-f3cf23894c45"
      },
      "outputs": [
        {
          "name": "stdout",
          "output_type": "stream",
          "text": [
            "Best Parameters for Gradient Boosting Model\n",
            " {'gb__learning_rate': 0.05, 'gb__max_depth': 5, 'gb__min_samples_split': 4, 'gb__n_estimators': 40}\n"
          ]
        }
      ],
      "source": [
        "print('Best Parameters for Gradient Boosting Model\\n',grid_gb.best_params_)"
      ]
    },
    {
      "cell_type": "code",
      "execution_count": 80,
      "metadata": {
        "id": "VIXoPMOXJqPh"
      },
      "outputs": [],
      "source": [
        "best_gb = grid_gb.best_estimator_"
      ]
    },
    {
      "cell_type": "code",
      "execution_count": 92,
      "metadata": {},
      "outputs": [
        {
          "data": {
            "text/plain": [
              "Pipeline(steps=[('prep',\n",
              "                 ColumnTransformer(transformers=[('continent',\n",
              "                                                  Pipeline(steps=[('impute',\n",
              "                                                                   SimpleImputer(strategy='most_frequent')),\n",
              "                                                                  ('ordinal',\n",
              "                                                                   OrdinalEncoder(categories=[['Asia',\n",
              "                                                                                               'Europe',\n",
              "                                                                                               'Balkans',\n",
              "                                                                                               'Others',\n",
              "                                                                                               'America',\n",
              "                                                                                               'Oceania',\n",
              "                                                                                               'Africa']]))]),\n",
              "                                                  ['country']),\n",
              "                                                 ('mhc',\n",
              "                                                  Pipeline(steps=[('impute',\n",
              "                                                                   SimpleImputer(strategy='most_frequent')),\n",
              "                                                                  ('ordinal',\n",
              "                                                                   Ordinal...\n",
              "                                                                   OrdinalEncoder(categories=[['Not '\n",
              "                                                                                               'sure',\n",
              "                                                                                               'No',\n",
              "                                                                                               'Yes']]))]),\n",
              "                                                  ['care_options']),\n",
              "                                                 ('wi',\n",
              "                                                  Pipeline(steps=[('impute',\n",
              "                                                                   SimpleImputer(strategy='most_frequent')),\n",
              "                                                                  ('ordinal',\n",
              "                                                                   OrdinalEncoder(categories=[['Never',\n",
              "                                                                                               'Rarely',\n",
              "                                                                                               'Sometimes',\n",
              "                                                                                               'Often']]))]),\n",
              "                                                  ['work_interfere'])])),\n",
              "                ('gb',\n",
              "                 GradientBoostingClassifier(learning_rate=0.05, max_depth=5,\n",
              "                                            min_samples_split=4,\n",
              "                                            n_estimators=40,\n",
              "                                            random_state=150))])"
            ]
          },
          "execution_count": 92,
          "metadata": {},
          "output_type": "execute_result"
        }
      ],
      "source": [
        "best_gb"
      ]
    },
    {
      "cell_type": "code",
      "execution_count": 82,
      "metadata": {
        "id": "IbKrh8IBzoaZ"
      },
      "outputs": [],
      "source": [
        "y_pred_train_gb = best_gb.predict(X_trainval)\n",
        "y_pred_test_gb = best_gb.predict(X_testval)"
      ]
    },
    {
      "cell_type": "markdown",
      "metadata": {
        "id": "ZQogusBPSkdV"
      },
      "source": [
        "## Evaluate"
      ]
    },
    {
      "cell_type": "code",
      "execution_count": 83,
      "metadata": {
        "colab": {
          "base_uri": "https://localhost:8080/"
        },
        "id": "N95h7W8-J16T",
        "outputId": "d30563a2-b667-41ba-ad2c-15c28ddc92f1"
      },
      "outputs": [
        {
          "name": "stdout",
          "output_type": "stream",
          "text": [
            "Classification Report Gradient Boosting Train set\n",
            "               precision    recall  f1-score   support\n",
            "\n",
            "           0       0.81      0.76      0.79       493\n",
            "           1       0.78      0.83      0.80       510\n",
            "\n",
            "    accuracy                           0.80      1003\n",
            "   macro avg       0.80      0.80      0.80      1003\n",
            "weighted avg       0.80      0.80      0.80      1003\n",
            "\n",
            "\n",
            "Classification Report Gradient Boosting Test set\n",
            "               precision    recall  f1-score   support\n",
            "\n",
            "           0       0.80      0.70      0.74       128\n",
            "           1       0.72      0.82      0.77       123\n",
            "\n",
            "    accuracy                           0.76       251\n",
            "   macro avg       0.76      0.76      0.76       251\n",
            "weighted avg       0.76      0.76      0.76       251\n",
            "\n"
          ]
        }
      ],
      "source": [
        "print('Classification Report Gradient Boosting Train set\\n', classification_report(y_trainval, y_pred_train_gb))\n",
        "print('\\nClassification Report Gradient Boosting Test set\\n', classification_report(y_testval, y_pred_test_gb))"
      ]
    },
    {
      "cell_type": "code",
      "execution_count": 84,
      "metadata": {
        "colab": {
          "base_uri": "https://localhost:8080/",
          "height": 312
        },
        "id": "7FOXvjoG6Zfc",
        "outputId": "d55abd5e-793d-45c2-8e2e-0cffe4df0107"
      },
      "outputs": [
        {
          "data": {
            "text/plain": [
              "Text(0.5, 1.0, 'Confusion Matrix Test Set')"
            ]
          },
          "execution_count": 84,
          "metadata": {},
          "output_type": "execute_result"
        },
        {
          "data": {
            "image/png": "[encoded data removed]",
            "text/plain": [
              "<Figure size 432x288 with 2 Axes>"
            ]
          },
          "metadata": {
            "needs_background": "light"
          },
          "output_type": "display_data"
        }
      ],
      "source": [
        "confusion_mat = confusion_matrix(y_testval, y_pred_test_gb)\n",
        "sns.heatmap(confusion_mat, annot=True)\n",
        "plt.xlabel('Predicted')\n",
        "plt.ylabel('Actual')\n",
        "plt.title('Confusion Matrix Test Set')"
      ]
    },
    {
      "cell_type": "code",
      "execution_count": 85,
      "metadata": {
        "colab": {
          "base_uri": "https://localhost:8080/",
          "height": 385
        },
        "id": "Jn_R3TMH6pv4",
        "outputId": "a8e9b962-8dfe-4058-bf72-a4585895b5ea"
      },
      "outputs": [
        {
          "name": "stderr",
          "output_type": "stream",
          "text": [
            "D:\\Anaconda\\lib\\site-packages\\sklearn\\utils\\deprecation.py:87: FutureWarning: Function plot_roc_curve is deprecated; Function :func:`plot_roc_curve` is deprecated in 1.0 and will be removed in 1.2. Use one of the class methods: :meth:`sklearn.metric.RocCurveDisplay.from_predictions` or :meth:`sklearn.metric.RocCurveDisplay.from_estimator`.\n",
            "  warnings.warn(msg, category=FutureWarning)\n",
            "D:\\Anaconda\\lib\\site-packages\\sklearn\\utils\\deprecation.py:87: FutureWarning: Function plot_roc_curve is deprecated; Function :func:`plot_roc_curve` is deprecated in 1.0 and will be removed in 1.2. Use one of the class methods: :meth:`sklearn.metric.RocCurveDisplay.from_predictions` or :meth:`sklearn.metric.RocCurveDisplay.from_estimator`.\n",
            "  warnings.warn(msg, category=FutureWarning)\n"
          ]
        },
        {
          "data": {
            "image/png": "[encoded data removed]",
            "text/plain": [
              "<Figure size 432x288 with 1 Axes>"
            ]
          },
          "metadata": {
            "needs_background": "light"
          },
          "output_type": "display_data"
        }
      ],
      "source": [
        "fig, ax = plt.subplots();\n",
        "plot_roc_curve(best_gb, X_trainval, y_trainval, ax=ax, name='Training');\n",
        "plot_roc_curve(best_gb, X_testval, y_testval, ax=ax, name='Test');\n",
        "plt.title('ROC AUC Score');"
      ]
    },
    {
      "cell_type": "markdown",
      "metadata": {},
      "source": [
        "> Classification Report :\n",
        "\n",
        ">> Looking at f1 score from classification report, Gradient Boost resulting overfit on data train. I did try lots of changing in GradientBoost's parameters and the classification reports above is the best since it results in higher score yet not too overfit. Our target's data is balance, therefore this model have no difficulty in distinguish the class\n",
        "\n",
        "> Confussion Matrix :\n",
        "\n",
        ">> In testset, GradientBoost predicted 89+100 = 189 correct datas out of  250 data (75%)\n",
        "\n",
        "> ROC AUC\n",
        "\n",
        ">> Score for AUC GradientBoost Model resulting > 80 therefore this model is better than the baseline, however this still overfit"
      ]
    },
    {
      "cell_type": "markdown",
      "metadata": {},
      "source": [
        "# Model Saving"
      ]
    },
    {
      "cell_type": "code",
      "execution_count": null,
      "metadata": {},
      "outputs": [],
      "source": [
        "import pickle\n",
        "with open (\"pipe.pkl\", \"wb\") as f :\n",
        "    pickle.dump(best_gb, f)"
      ]
    },
    {
      "cell_type": "markdown",
      "metadata": {
        "id": "vQEoX1d76zbg"
      },
      "source": [
        "# Model Inference"
      ]
    },
    {
      "cell_type": "code",
      "execution_count": 86,
      "metadata": {
        "id": "x0jP4RqK6r1h"
      },
      "outputs": [],
      "source": [
        "df_inf1 = df_inf.drop('treatment', axis=1)\n",
        "df_inf2 = df_inf['treatment']"
      ]
    },
    {
      "cell_type": "code",
      "execution_count": 87,
      "metadata": {},
      "outputs": [],
      "source": [
        "df_inf2 = pd.DataFrame(df_inf2)"
      ]
    },
    {
      "cell_type": "code",
      "execution_count": 88,
      "metadata": {
        "id": "iYr00r7T7YhB"
      },
      "outputs": [],
      "source": [
        "inf_pred_lr = best_gb.predict(df_inf1)\n",
        "inf_pred_lr_df = pd.DataFrame(inf_pred_lr, columns = ['predicted_lr'])"
      ]
    },
    {
      "cell_type": "code",
      "execution_count": 93,
      "metadata": {},
      "outputs": [
        {
          "data": {
            "text/plain": [
              "array([0, 0, 1, 1, 1])"
            ]
          },
          "execution_count": 93,
          "metadata": {},
          "output_type": "execute_result"
        }
      ],
      "source": [
        "inf_pred_lr"
      ]
    },
    {
      "cell_type": "code",
      "execution_count": 89,
      "metadata": {
        "colab": {
          "base_uri": "https://localhost:8080/",
          "height": 443
        },
        "id": "I4d0ooS57hK-",
        "outputId": "900cb170-e8f2-45dc-bfaa-8d7e49704109"
      },
      "outputs": [
        {
          "data": {
            "text/html": [
              "<div>\n",
              "<style scoped>\n",
              "    .dataframe tbody tr th:only-of-type {\n",
              "        vertical-align: middle;\n",
              "    }\n",
              "\n",
              "    .dataframe tbody tr th {\n",
              "        vertical-align: top;\n",
              "    }\n",
              "\n",
              "    .dataframe thead th {\n",
              "        text-align: right;\n",
              "    }\n",
              "</style>\n",
              "<table border=\"1\" class=\"dataframe\">\n",
              "  <thead>\n",
              "    <tr style=\"text-align: right;\">\n",
              "      <th></th>\n",
              "      <th>timestamp</th>\n",
              "      <th>age</th>\n",
              "      <th>gender</th>\n",
              "      <th>country</th>\n",
              "      <th>state</th>\n",
              "      <th>self_employed</th>\n",
              "      <th>family_history</th>\n",
              "      <th>work_interfere</th>\n",
              "      <th>no_employees</th>\n",
              "      <th>remote_work</th>\n",
              "      <th>tech_company</th>\n",
              "      <th>benefits</th>\n",
              "      <th>care_options</th>\n",
              "      <th>wellness_program</th>\n",
              "      <th>seek_help</th>\n",
              "      <th>anonymity</th>\n",
              "      <th>leave</th>\n",
              "      <th>mental_health_consequence</th>\n",
              "      <th>phys_health_consequence</th>\n",
              "      <th>coworkers</th>\n",
              "      <th>supervisor</th>\n",
              "      <th>mental_health_interview</th>\n",
              "      <th>phys_health_interview</th>\n",
              "      <th>mental_vs_physical</th>\n",
              "      <th>obs_consequence</th>\n",
              "      <th>comments</th>\n",
              "      <th>age_</th>\n",
              "      <th>gender_</th>\n",
              "      <th>age__</th>\n",
              "      <th>continent_</th>\n",
              "      <th>self_employed_</th>\n",
              "      <th>family_history_</th>\n",
              "      <th>work_interfere_</th>\n",
              "      <th>remote_work_</th>\n",
              "      <th>tech_company_</th>\n",
              "      <th>benefits_</th>\n",
              "      <th>care_options_</th>\n",
              "      <th>wellness_program_</th>\n",
              "      <th>seek_help_</th>\n",
              "      <th>anonymity_</th>\n",
              "      <th>leave_</th>\n",
              "      <th>mental_health_consequence_</th>\n",
              "      <th>phys_health_consequence_</th>\n",
              "      <th>coworkers_</th>\n",
              "      <th>supervisor_</th>\n",
              "      <th>mental_health_interview_</th>\n",
              "      <th>phys_health_interview_</th>\n",
              "      <th>mental_vs_physical_</th>\n",
              "      <th>obs_consequence_</th>\n",
              "      <th>predicted_lr</th>\n",
              "    </tr>\n",
              "  </thead>\n",
              "  <tbody>\n",
              "    <tr>\n",
              "      <th>0</th>\n",
              "      <td>2014-08-27 11:36:24</td>\n",
              "      <td>41</td>\n",
              "      <td>Male</td>\n",
              "      <td>America</td>\n",
              "      <td>IA</td>\n",
              "      <td>No</td>\n",
              "      <td>No</td>\n",
              "      <td>Never</td>\n",
              "      <td>More than 1000</td>\n",
              "      <td>No</td>\n",
              "      <td>No</td>\n",
              "      <td>Don't know</td>\n",
              "      <td>No</td>\n",
              "      <td>No</td>\n",
              "      <td>Don't know</td>\n",
              "      <td>Don't know</td>\n",
              "      <td>Don't know</td>\n",
              "      <td>Maybe</td>\n",
              "      <td>No</td>\n",
              "      <td>No</td>\n",
              "      <td>No</td>\n",
              "      <td>No</td>\n",
              "      <td>Yes</td>\n",
              "      <td>Don't know</td>\n",
              "      <td>No</td>\n",
              "      <td>NaN</td>\n",
              "      <td>31-45</td>\n",
              "      <td>1</td>\n",
              "      <td>2.0</td>\n",
              "      <td>5</td>\n",
              "      <td>1.0</td>\n",
              "      <td>1</td>\n",
              "      <td>1.0</td>\n",
              "      <td>1</td>\n",
              "      <td>2</td>\n",
              "      <td>1</td>\n",
              "      <td>2</td>\n",
              "      <td>2</td>\n",
              "      <td>1</td>\n",
              "      <td>1</td>\n",
              "      <td>1</td>\n",
              "      <td>2</td>\n",
              "      <td>1</td>\n",
              "      <td>1</td>\n",
              "      <td>3</td>\n",
              "      <td>2</td>\n",
              "      <td>3</td>\n",
              "      <td>1</td>\n",
              "      <td>1</td>\n",
              "      <td>0</td>\n",
              "    </tr>\n",
              "    <tr>\n",
              "      <th>1</th>\n",
              "      <td>2014-08-28 15:01:46</td>\n",
              "      <td>43</td>\n",
              "      <td>Male</td>\n",
              "      <td>America</td>\n",
              "      <td>MA</td>\n",
              "      <td>No</td>\n",
              "      <td>No</td>\n",
              "      <td>NaN</td>\n",
              "      <td>More than 1000</td>\n",
              "      <td>No</td>\n",
              "      <td>Yes</td>\n",
              "      <td>Yes</td>\n",
              "      <td>No</td>\n",
              "      <td>Yes</td>\n",
              "      <td>Yes</td>\n",
              "      <td>Don't know</td>\n",
              "      <td>Don't know</td>\n",
              "      <td>No</td>\n",
              "      <td>No</td>\n",
              "      <td>Some of them</td>\n",
              "      <td>Yes</td>\n",
              "      <td>No</td>\n",
              "      <td>Maybe</td>\n",
              "      <td>Don't know</td>\n",
              "      <td>No</td>\n",
              "      <td>NaN</td>\n",
              "      <td>31-45</td>\n",
              "      <td>1</td>\n",
              "      <td>2.0</td>\n",
              "      <td>5</td>\n",
              "      <td>1.0</td>\n",
              "      <td>1</td>\n",
              "      <td>NaN</td>\n",
              "      <td>1</td>\n",
              "      <td>1</td>\n",
              "      <td>3</td>\n",
              "      <td>2</td>\n",
              "      <td>3</td>\n",
              "      <td>3</td>\n",
              "      <td>1</td>\n",
              "      <td>1</td>\n",
              "      <td>1</td>\n",
              "      <td>1</td>\n",
              "      <td>2</td>\n",
              "      <td>1</td>\n",
              "      <td>2</td>\n",
              "      <td>1</td>\n",
              "      <td>1</td>\n",
              "      <td>1</td>\n",
              "      <td>0</td>\n",
              "    </tr>\n",
              "    <tr>\n",
              "      <th>2</th>\n",
              "      <td>2014-08-27 15:05:00</td>\n",
              "      <td>32</td>\n",
              "      <td>Male</td>\n",
              "      <td>America</td>\n",
              "      <td>MI</td>\n",
              "      <td>No</td>\n",
              "      <td>Yes</td>\n",
              "      <td>Rarely</td>\n",
              "      <td>More than 1000</td>\n",
              "      <td>No</td>\n",
              "      <td>No</td>\n",
              "      <td>Yes</td>\n",
              "      <td>Yes</td>\n",
              "      <td>Yes</td>\n",
              "      <td>Yes</td>\n",
              "      <td>Yes</td>\n",
              "      <td>Don't know</td>\n",
              "      <td>No</td>\n",
              "      <td>No</td>\n",
              "      <td>Some of them</td>\n",
              "      <td>Yes</td>\n",
              "      <td>No</td>\n",
              "      <td>Yes</td>\n",
              "      <td>Yes</td>\n",
              "      <td>No</td>\n",
              "      <td>NaN</td>\n",
              "      <td>31-45</td>\n",
              "      <td>1</td>\n",
              "      <td>2.0</td>\n",
              "      <td>5</td>\n",
              "      <td>1.0</td>\n",
              "      <td>2</td>\n",
              "      <td>2.0</td>\n",
              "      <td>1</td>\n",
              "      <td>2</td>\n",
              "      <td>3</td>\n",
              "      <td>3</td>\n",
              "      <td>3</td>\n",
              "      <td>3</td>\n",
              "      <td>3</td>\n",
              "      <td>1</td>\n",
              "      <td>1</td>\n",
              "      <td>1</td>\n",
              "      <td>2</td>\n",
              "      <td>1</td>\n",
              "      <td>2</td>\n",
              "      <td>3</td>\n",
              "      <td>2</td>\n",
              "      <td>1</td>\n",
              "      <td>1</td>\n",
              "    </tr>\n",
              "    <tr>\n",
              "      <th>3</th>\n",
              "      <td>2014-08-27 15:38:07</td>\n",
              "      <td>24</td>\n",
              "      <td>Female</td>\n",
              "      <td>America</td>\n",
              "      <td>NY</td>\n",
              "      <td>No</td>\n",
              "      <td>Yes</td>\n",
              "      <td>Rarely</td>\n",
              "      <td>6-25</td>\n",
              "      <td>No</td>\n",
              "      <td>Yes</td>\n",
              "      <td>No</td>\n",
              "      <td>No</td>\n",
              "      <td>No</td>\n",
              "      <td>No</td>\n",
              "      <td>Don't know</td>\n",
              "      <td>Very easy</td>\n",
              "      <td>Yes</td>\n",
              "      <td>No</td>\n",
              "      <td>No</td>\n",
              "      <td>Some of them</td>\n",
              "      <td>No</td>\n",
              "      <td>Yes</td>\n",
              "      <td>Yes</td>\n",
              "      <td>No</td>\n",
              "      <td>NaN</td>\n",
              "      <td>16-30</td>\n",
              "      <td>2</td>\n",
              "      <td>1.0</td>\n",
              "      <td>5</td>\n",
              "      <td>1.0</td>\n",
              "      <td>2</td>\n",
              "      <td>2.0</td>\n",
              "      <td>1</td>\n",
              "      <td>1</td>\n",
              "      <td>2</td>\n",
              "      <td>2</td>\n",
              "      <td>2</td>\n",
              "      <td>2</td>\n",
              "      <td>1</td>\n",
              "      <td>3</td>\n",
              "      <td>3</td>\n",
              "      <td>1</td>\n",
              "      <td>1</td>\n",
              "      <td>2</td>\n",
              "      <td>2</td>\n",
              "      <td>3</td>\n",
              "      <td>2</td>\n",
              "      <td>1</td>\n",
              "      <td>1</td>\n",
              "    </tr>\n",
              "    <tr>\n",
              "      <th>4</th>\n",
              "      <td>2014-08-27 14:11:52</td>\n",
              "      <td>26</td>\n",
              "      <td>Female</td>\n",
              "      <td>America</td>\n",
              "      <td>WA</td>\n",
              "      <td>No</td>\n",
              "      <td>Yes</td>\n",
              "      <td>Rarely</td>\n",
              "      <td>More than 1000</td>\n",
              "      <td>No</td>\n",
              "      <td>Yes</td>\n",
              "      <td>Yes</td>\n",
              "      <td>Not sure</td>\n",
              "      <td>Don't know</td>\n",
              "      <td>Don't know</td>\n",
              "      <td>Don't know</td>\n",
              "      <td>Don't know</td>\n",
              "      <td>Maybe</td>\n",
              "      <td>No</td>\n",
              "      <td>Some of them</td>\n",
              "      <td>Some of them</td>\n",
              "      <td>No</td>\n",
              "      <td>No</td>\n",
              "      <td>Don't know</td>\n",
              "      <td>No</td>\n",
              "      <td>NaN</td>\n",
              "      <td>16-30</td>\n",
              "      <td>2</td>\n",
              "      <td>1.0</td>\n",
              "      <td>5</td>\n",
              "      <td>1.0</td>\n",
              "      <td>2</td>\n",
              "      <td>2.0</td>\n",
              "      <td>1</td>\n",
              "      <td>1</td>\n",
              "      <td>3</td>\n",
              "      <td>1</td>\n",
              "      <td>1</td>\n",
              "      <td>1</td>\n",
              "      <td>1</td>\n",
              "      <td>1</td>\n",
              "      <td>2</td>\n",
              "      <td>1</td>\n",
              "      <td>2</td>\n",
              "      <td>2</td>\n",
              "      <td>2</td>\n",
              "      <td>2</td>\n",
              "      <td>1</td>\n",
              "      <td>1</td>\n",
              "      <td>1</td>\n",
              "    </tr>\n",
              "  </tbody>\n",
              "</table>\n",
              "</div>"
            ],
            "text/plain": [
              "             timestamp  age  gender  country state self_employed  \\\n",
              "0  2014-08-27 11:36:24   41    Male  America    IA            No   \n",
              "1  2014-08-28 15:01:46   43    Male  America    MA            No   \n",
              "2  2014-08-27 15:05:00   32    Male  America    MI            No   \n",
              "3  2014-08-27 15:38:07   24  Female  America    NY            No   \n",
              "4  2014-08-27 14:11:52   26  Female  America    WA            No   \n",
              "\n",
              "  family_history work_interfere    no_employees remote_work tech_company  \\\n",
              "0             No          Never  More than 1000          No           No   \n",
              "1             No            NaN  More than 1000          No          Yes   \n",
              "2            Yes         Rarely  More than 1000          No           No   \n",
              "3            Yes         Rarely            6-25          No          Yes   \n",
              "4            Yes         Rarely  More than 1000          No          Yes   \n",
              "\n",
              "     benefits care_options wellness_program   seek_help   anonymity  \\\n",
              "0  Don't know           No               No  Don't know  Don't know   \n",
              "1         Yes           No              Yes         Yes  Don't know   \n",
              "2         Yes          Yes              Yes         Yes         Yes   \n",
              "3          No           No               No          No  Don't know   \n",
              "4         Yes     Not sure       Don't know  Don't know  Don't know   \n",
              "\n",
              "        leave mental_health_consequence phys_health_consequence     coworkers  \\\n",
              "0  Don't know                     Maybe                      No            No   \n",
              "1  Don't know                        No                      No  Some of them   \n",
              "2  Don't know                        No                      No  Some of them   \n",
              "3   Very easy                       Yes                      No            No   \n",
              "4  Don't know                     Maybe                      No  Some of them   \n",
              "\n",
              "     supervisor mental_health_interview phys_health_interview  \\\n",
              "0            No                      No                   Yes   \n",
              "1           Yes                      No                 Maybe   \n",
              "2           Yes                      No                   Yes   \n",
              "3  Some of them                      No                   Yes   \n",
              "4  Some of them                      No                    No   \n",
              "\n",
              "  mental_vs_physical obs_consequence comments   age_  gender_  age__  \\\n",
              "0         Don't know              No      NaN  31-45        1    2.0   \n",
              "1         Don't know              No      NaN  31-45        1    2.0   \n",
              "2                Yes              No      NaN  31-45        1    2.0   \n",
              "3                Yes              No      NaN  16-30        2    1.0   \n",
              "4         Don't know              No      NaN  16-30        2    1.0   \n",
              "\n",
              "   continent_  self_employed_  family_history_  work_interfere_  remote_work_  \\\n",
              "0           5             1.0                1              1.0             1   \n",
              "1           5             1.0                1              NaN             1   \n",
              "2           5             1.0                2              2.0             1   \n",
              "3           5             1.0                2              2.0             1   \n",
              "4           5             1.0                2              2.0             1   \n",
              "\n",
              "   tech_company_  benefits_  care_options_  wellness_program_  seek_help_  \\\n",
              "0              2          1              2                  2           1   \n",
              "1              1          3              2                  3           3   \n",
              "2              2          3              3                  3           3   \n",
              "3              1          2              2                  2           2   \n",
              "4              1          3              1                  1           1   \n",
              "\n",
              "   anonymity_  leave_  mental_health_consequence_  phys_health_consequence_  \\\n",
              "0           1       1                           2                         1   \n",
              "1           1       1                           1                         1   \n",
              "2           3       1                           1                         1   \n",
              "3           1       3                           3                         1   \n",
              "4           1       1                           2                         1   \n",
              "\n",
              "   coworkers_  supervisor_  mental_health_interview_  phys_health_interview_  \\\n",
              "0           1            3                         2                       3   \n",
              "1           2            1                         2                       1   \n",
              "2           2            1                         2                       3   \n",
              "3           1            2                         2                       3   \n",
              "4           2            2                         2                       2   \n",
              "\n",
              "   mental_vs_physical_  obs_consequence_  predicted_lr  \n",
              "0                    1                 1             0  \n",
              "1                    1                 1             0  \n",
              "2                    2                 1             1  \n",
              "3                    2                 1             1  \n",
              "4                    1                 1             1  "
            ]
          },
          "execution_count": 89,
          "metadata": {},
          "output_type": "execute_result"
        }
      ],
      "source": [
        "pd.concat([df_inf1,inf_pred_lr_df], axis=1)"
      ]
    },
    {
      "cell_type": "markdown",
      "metadata": {
        "id": "iZcgcjfe-9kE"
      },
      "source": [
        "# Conclusion\n",
        "\n",
        "## Overall Data\n",
        "The data is balance enough for the target's classes. Yet this data is pretty much `messy` for the Gender Column, and country (not balance between continent) and it might be a problem if we encounter new data in test set that haven't been learned in train data. There are some missing value and it's MCAR, no pattern to detect. Luckily this data have no outliers. The feature I used for this models are features with correlation >0.1 to the targets.\n",
        "\n",
        "## Model Result\n",
        "To check which model are the best further, use cross_val_score scoring f1 with 3x. .\n",
        "The results for those models I use are :\n",
        "\n",
        "GradientBoost = 0.74\n",
        "LogisticRegression = 0.73\n",
        "SVM = 0.73\n",
        "Random Forest = 0.72\n",
        "KNN = 0.67\n",
        "\n",
        "\n",
        "## Best Model\n",
        "The highest f1 score from cross_val_score is GradientBoost. After tuned with it's best parameters, the data resulting in 80 scores for f1 (increase from 74 to 80) even tho the model is overfit.\n",
        "\n",
        "Tunning parameters with GridSearchCV with 2fold resulting hyperparameter :\n",
        "\n",
        "- learning_rate': 0.05, \n",
        "- max_depth': 5, \n",
        "- min_samples_split': 4, \n",
        "- n_estimators': 40\n",
        "\n",
        "## Slight Insight\n",
        "All employee might have a condition where they don't feel `fine` with the mental health, in this case there are only 3 factors that caused them might seek Treatment (Age, Continent, and Family History). The rest are depends on the company. Based on this EDA, it'd be better for comapny to create a conducive and supportive env for their employee so they don't have to take treatment because they feel `okay` with their company."
      ]
    },
    {
      "cell_type": "markdown",
      "metadata": {},
      "source": []
    }
  ],
  "metadata": {
    "colab": {
      "collapsed_sections": [],
      "name": "h8dsft_Milestone2P1_CindraChatami.ipynb",
      "provenance": [],
      "toc_visible": true
    },
    "kernelspec": {
      "display_name": "Python 3",
      "name": "python3"
    },
    "language_info": {
      "codemirror_mode": {
        "name": "ipython",
        "version": 3
      },
      "file_extension": ".py",
      "mimetype": "text/x-python",
      "name": "python",
      "nbconvert_exporter": "python",
      "pygments_lexer": "ipython3",
      "version": "3.9.7"
    }
  },
  "nbformat": 4,
  "nbformat_minor": 0
}
